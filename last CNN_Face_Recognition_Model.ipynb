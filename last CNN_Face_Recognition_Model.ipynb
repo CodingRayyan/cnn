{
  "nbformat": 4,
  "nbformat_minor": 0,
  "metadata": {
    "colab": {
      "provenance": []
    },
    "kernelspec": {
      "name": "python3",
      "display_name": "Python 3"
    },
    "language_info": {
      "name": "python"
    }
  },
  "cells": [
    {
      "cell_type": "markdown",
      "source": [
        "# AI Domain: Convolutional Neural Networks (CNN)\n",
        "\n",
        "## CNN Project 01: \"Smart Vision -> A Powerful CNN-Based Face Recognition Model\"\n",
        "| Prepared by | Rayyan Ahmed |\n",
        "|-------------|--------------|\n",
        "| Date | 6th March, 2025 |\n",
        "\n",
        "## Libraries Used:\n",
        "- Numpy\n",
        "- Pandas\n",
        "- Matplotlib\n",
        "- Scikit Learn\n",
        "- Tensorflow\n",
        "- Keras\n",
        "\n",
        "\n",
        "\n",
        "\n",
        "\n",
        "\n"
      ],
      "metadata": {
        "id": "aGoVg4sQoowz"
      }
    },
    {
      "cell_type": "markdown",
      "source": [
        "<br>\n",
        "\n",
        "# Loading DataFrame\n",
        "\n",
        "<br>"
      ],
      "metadata": {
        "id": "XpBSVMPgtRX_"
      }
    },
    {
      "cell_type": "code",
      "source": [
        "import numpy as np\n",
        "from sklearn.datasets import fetch_lfw_people"
      ],
      "metadata": {
        "id": "fnoSxvqSvTch"
      },
      "execution_count": null,
      "outputs": []
    },
    {
      "cell_type": "code",
      "source": [
        "df = fetch_lfw_people(min_faces_per_person = 70, resize = 0.4)\n",
        "df"
      ],
      "metadata": {
        "colab": {
          "base_uri": "https://localhost:8080/"
        },
        "id": "Bvj7XWbrvu4O",
        "outputId": "2d8cf703-50af-4739-809f-dc855930b1a4"
      },
      "execution_count": null,
      "outputs": [
        {
          "output_type": "execute_result",
          "data": {
            "text/plain": [
              "{'data': array([[0.9973857 , 0.99607843, 0.9921568 , ..., 0.38169935, 0.38823533,\n",
              "         0.3803922 ],\n",
              "        [0.14771242, 0.19738562, 0.1751634 , ..., 0.45751634, 0.44444445,\n",
              "         0.53594774],\n",
              "        [0.34379086, 0.39477125, 0.49150327, ..., 0.709804  , 0.72156864,\n",
              "         0.7163399 ],\n",
              "        ...,\n",
              "        [0.3633987 , 0.3372549 , 0.30718955, ..., 0.19738562, 0.22091503,\n",
              "         0.19346406],\n",
              "        [0.19346406, 0.24705882, 0.34248367, ..., 0.7346406 , 0.6640523 ,\n",
              "         0.6117647 ],\n",
              "        [0.11633987, 0.10196079, 0.1267974 , ..., 0.13333334, 0.13725491,\n",
              "         0.2535948 ]], dtype=float32),\n",
              " 'images': array([[[0.9973857 , 0.99607843, 0.9921568 , ..., 0.29803923,\n",
              "          0.24836601, 0.20653595],\n",
              "         [0.9973857 , 0.9921569 , 0.9908497 , ..., 0.30588236,\n",
              "          0.2535948 , 0.21568628],\n",
              "         [0.96078426, 0.93071896, 0.8679738 , ..., 0.2875817 ,\n",
              "          0.24183007, 0.21568628],\n",
              "         ...,\n",
              "         [0.34509805, 0.26143792, 0.17385621, ..., 0.4248366 ,\n",
              "          0.40261438, 0.39084968],\n",
              "         [0.30980393, 0.23398693, 0.17124183, ..., 0.39869282,\n",
              "          0.4013072 , 0.3764706 ],\n",
              "         [0.28366014, 0.2248366 , 0.18039216, ..., 0.38169935,\n",
              "          0.38823533, 0.3803922 ]],\n",
              " \n",
              "        [[0.14771242, 0.19738562, 0.1751634 , ..., 0.24183007,\n",
              "          0.2       , 0.14509805],\n",
              "         [0.18039216, 0.24836601, 0.24575163, ..., 0.21437909,\n",
              "          0.21960784, 0.1751634 ],\n",
              "         [0.21045752, 0.303268  , 0.33594772, ..., 0.2653595 ,\n",
              "          0.18431373, 0.16993465],\n",
              "         ...,\n",
              "         [0.2875817 , 0.29803923, 0.29673204, ..., 0.503268  ,\n",
              "          0.46797386, 0.4535948 ],\n",
              "         [0.29411766, 0.29803923, 0.303268  , ..., 0.4928105 ,\n",
              "          0.4496732 , 0.45359477],\n",
              "         [0.30457518, 0.29673204, 0.29673204, ..., 0.45751634,\n",
              "          0.44444445, 0.53594774]],\n",
              " \n",
              "        [[0.34379086, 0.39477125, 0.49150327, ..., 0.5803922 ,\n",
              "          0.58954257, 0.58300656],\n",
              "         [0.38169935, 0.5071896 , 0.57124186, ..., 0.6261439 ,\n",
              "          0.5908497 , 0.5751634 ],\n",
              "         [0.48366013, 0.5686275 , 0.579085  , ..., 0.64183015,\n",
              "          0.59738564, 0.5751634 ],\n",
              "         ...,\n",
              "         [0.29673204, 0.2875817 , 0.28496733, ..., 0.46013072,\n",
              "          0.6732027 , 0.70326805],\n",
              "         [0.28627452, 0.26666668, 0.27058825, ..., 0.5908497 ,\n",
              "          0.7267974 , 0.7098039 ],\n",
              "         [0.3150327 , 0.25490198, 0.26013073, ..., 0.709804  ,\n",
              "          0.72156864, 0.7163399 ]],\n",
              " \n",
              "        ...,\n",
              " \n",
              "        [[0.3633987 , 0.3372549 , 0.30718955, ..., 0.1633987 ,\n",
              "          0.1633987 , 0.18562092],\n",
              "         [0.35947713, 0.3124183 , 0.32026145, ..., 0.16993465,\n",
              "          0.16209151, 0.17124183],\n",
              "         [0.30457518, 0.26666668, 0.38039216, ..., 0.18562092,\n",
              "          0.17254902, 0.16993465],\n",
              "         ...,\n",
              "         [0.38169935, 0.36601308, 0.35947713, ..., 0.2901961 ,\n",
              "          0.34509805, 0.4       ],\n",
              "         [0.36078432, 0.35816994, 0.37254903, ..., 0.20261438,\n",
              "          0.25490198, 0.27450982],\n",
              "         [0.32156864, 0.3281046 , 0.34117648, ..., 0.19738562,\n",
              "          0.22091503, 0.19346406]],\n",
              " \n",
              "        [[0.19346406, 0.24705882, 0.34248367, ..., 0.5882353 ,\n",
              "          0.5947712 , 0.5647059 ],\n",
              "         [0.22875817, 0.32287583, 0.39084968, ..., 0.58300656,\n",
              "          0.56078434, 0.55947715],\n",
              "         [0.23006536, 0.351634  , 0.37124184, ..., 0.5882353 ,\n",
              "          0.53464055, 0.53464055],\n",
              "         ...,\n",
              "         [0.23660131, 0.23921569, 0.24313726, ..., 0.5542484 ,\n",
              "          0.63137263, 0.6104575 ],\n",
              "         [0.24052288, 0.24183007, 0.24575163, ..., 0.71111107,\n",
              "          0.6535948 , 0.6169935 ],\n",
              "         [0.24183007, 0.24052288, 0.24444444, ..., 0.7346406 ,\n",
              "          0.6640523 , 0.6117647 ]],\n",
              " \n",
              "        [[0.11633987, 0.10196079, 0.1267974 , ..., 0.34248367,\n",
              "          0.20130719, 0.17908497],\n",
              "         [0.12156863, 0.12418301, 0.14379086, ..., 0.41045752,\n",
              "          0.20522876, 0.15816994],\n",
              "         [0.13071896, 0.13202615, 0.14901961, ..., 0.4888889 ,\n",
              "          0.26928106, 0.19477125],\n",
              "         ...,\n",
              "         [0.18169935, 0.17254902, 0.17254902, ..., 0.09281046,\n",
              "          0.07058824, 0.13986929],\n",
              "         [0.16470589, 0.1633987 , 0.1764706 , ..., 0.0875817 ,\n",
              "          0.10326798, 0.1764706 ],\n",
              "         [0.17908497, 0.19477125, 0.20392157, ..., 0.13333334,\n",
              "          0.13725491, 0.2535948 ]]], dtype=float32),\n",
              " 'target': array([5, 6, 3, ..., 5, 3, 5]),\n",
              " 'target_names': array(['Ariel Sharon', 'Colin Powell', 'Donald Rumsfeld', 'George W Bush',\n",
              "        'Gerhard Schroeder', 'Hugo Chavez', 'Tony Blair'], dtype='<U17'),\n",
              " 'DESCR': \".. _labeled_faces_in_the_wild_dataset:\\n\\nThe Labeled Faces in the Wild face recognition dataset\\n------------------------------------------------------\\n\\nThis dataset is a collection of JPEG pictures of famous people collected\\nover the internet, all details are available on the official website:\\n\\nhttp://vis-www.cs.umass.edu/lfw/\\n\\nEach picture is centered on a single face. The typical task is called\\nFace Verification: given a pair of two pictures, a binary classifier\\nmust predict whether the two images are from the same person.\\n\\nAn alternative task, Face Recognition or Face Identification is:\\ngiven the picture of the face of an unknown person, identify the name\\nof the person by referring to a gallery of previously seen pictures of\\nidentified persons.\\n\\nBoth Face Verification and Face Recognition are tasks that are typically\\nperformed on the output of a model trained to perform Face Detection. The\\nmost popular model for Face Detection is called Viola-Jones and is\\nimplemented in the OpenCV library. The LFW faces were extracted by this\\nface detector from various online websites.\\n\\n**Data Set Characteristics:**\\n\\n=================   =======================\\nClasses                                5749\\nSamples total                         13233\\nDimensionality                         5828\\nFeatures            real, between 0 and 255\\n=================   =======================\\n\\n.. dropdown:: Usage\\n\\n  ``scikit-learn`` provides two loaders that will automatically download,\\n  cache, parse the metadata files, decode the jpeg and convert the\\n  interesting slices into memmapped numpy arrays. This dataset size is more\\n  than 200 MB. The first load typically takes more than a couple of minutes\\n  to fully decode the relevant part of the JPEG files into numpy arrays. If\\n  the dataset has  been loaded once, the following times the loading times\\n  less than 200ms by using a memmapped version memoized on the disk in the\\n  ``~/scikit_learn_data/lfw_home/`` folder using ``joblib``.\\n\\n  The first loader is used for the Face Identification task: a multi-class\\n  classification task (hence supervised learning)::\\n\\n    >>> from sklearn.datasets import fetch_lfw_people\\n    >>> lfw_people = fetch_lfw_people(min_faces_per_person=70, resize=0.4)\\n\\n    >>> for name in lfw_people.target_names:\\n    ...     print(name)\\n    ...\\n    Ariel Sharon\\n    Colin Powell\\n    Donald Rumsfeld\\n    George W Bush\\n    Gerhard Schroeder\\n    Hugo Chavez\\n    Tony Blair\\n\\n  The default slice is a rectangular shape around the face, removing\\n  most of the background::\\n\\n    >>> lfw_people.data.dtype\\n    dtype('float32')\\n\\n    >>> lfw_people.data.shape\\n    (1288, 1850)\\n\\n    >>> lfw_people.images.shape\\n    (1288, 50, 37)\\n\\n  Each of the ``1140`` faces is assigned to a single person id in the ``target``\\n  array::\\n\\n    >>> lfw_people.target.shape\\n    (1288,)\\n\\n    >>> list(lfw_people.target[:10])\\n    [5, 6, 3, 1, 0, 1, 3, 4, 3, 0]\\n\\n  The second loader is typically used for the face verification task: each sample\\n  is a pair of two picture belonging or not to the same person::\\n\\n    >>> from sklearn.datasets import fetch_lfw_pairs\\n    >>> lfw_pairs_train = fetch_lfw_pairs(subset='train')\\n\\n    >>> list(lfw_pairs_train.target_names)\\n    ['Different persons', 'Same person']\\n\\n    >>> lfw_pairs_train.pairs.shape\\n    (2200, 2, 62, 47)\\n\\n    >>> lfw_pairs_train.data.shape\\n    (2200, 5828)\\n\\n    >>> lfw_pairs_train.target.shape\\n    (2200,)\\n\\n  Both for the :func:`sklearn.datasets.fetch_lfw_people` and\\n  :func:`sklearn.datasets.fetch_lfw_pairs` function it is\\n  possible to get an additional dimension with the RGB color channels by\\n  passing ``color=True``, in that case the shape will be\\n  ``(2200, 2, 62, 47, 3)``.\\n\\n  The :func:`sklearn.datasets.fetch_lfw_pairs` datasets is subdivided into\\n  3 subsets: the development ``train`` set, the development ``test`` set and\\n  an evaluation ``10_folds`` set meant to compute performance metrics using a\\n  10-folds cross validation scheme.\\n\\n.. rubric:: References\\n\\n* `Labeled Faces in the Wild: A Database for Studying Face Recognition\\n  in Unconstrained Environments.\\n  <http://vis-www.cs.umass.edu/lfw/lfw.pdf>`_\\n  Gary B. Huang, Manu Ramesh, Tamara Berg, and Erik Learned-Miller.\\n  University of Massachusetts, Amherst, Technical Report 07-49, October, 2007.\\n\\n\\n.. rubric:: Examples\\n\\n* :ref:`sphx_glr_auto_examples_applications_plot_face_recognition.py`\\n\"}"
            ]
          },
          "metadata": {},
          "execution_count": 20
        }
      ]
    },
    {
      "cell_type": "code",
      "source": [
        "df.data.shape, df.images.shape"
      ],
      "metadata": {
        "colab": {
          "base_uri": "https://localhost:8080/"
        },
        "id": "ZyQyrotRcJCE",
        "outputId": "86bfe8d7-a4b7-4b28-c09c-2deff5d7e3ac"
      },
      "execution_count": null,
      "outputs": [
        {
          "output_type": "execute_result",
          "data": {
            "text/plain": [
              "((1288, 1850), (1288, 50, 37))"
            ]
          },
          "metadata": {},
          "execution_count": 35
        }
      ]
    },
    {
      "cell_type": "markdown",
      "source": [
        "---\n",
        "\n",
        "#### Each row in the data array corresponds to one image, and each value in that row represents a pixel's intensity (normalized between 0 and 1).\n",
        "\n",
        "#### Since the shape is (1288, 1850):\n",
        "\n",
        "- 1288 → Total number of images.\n",
        "- 1850 → Number of pixel values per image (which means each image has 1850\n",
        "  pixels).\n",
        "\n",
        "#### Example:\n",
        "- Look at the first row of data: [0.9973857 , 0.99607843, 0.9921568 , ..., 0.38169935, 0.38823533, 0.3803922 ] which is representing 1st image of dataset.\n",
        "- Here, the values \"0.9973857, 0.99607843... 0.3803922\" are representing the pixels of 1st image.\n",
        "- i.e: 1st pixel is 99.73857% gray, 2nd is 99.607843% gray and last pixel is 38.03922% gray.\n",
        "\n",
        "---"
      ],
      "metadata": {
        "id": "v0wVH0tQcUSD"
      }
    },
    {
      "cell_type": "markdown",
      "source": [
        "---\n",
        "\n",
        "#### Each double bracket [[ ... ]] represents a single image, which is a 2D matrix (height × width).\n",
        "\n",
        "#### From the shape (1288, 50, 37), we can see that:\n",
        "\n",
        "- Each image has 50 rows (height).\n",
        "- Each row has 37 values (width, i.e., columns).\n",
        "- Each double bracket [[ ... ]] contains 50 rows, where each row has 37 values.\n",
        "\n",
        "---"
      ],
      "metadata": {
        "id": "LTIwMM38vPJe"
      }
    },
    {
      "cell_type": "code",
      "source": [
        "import numpy as np\n",
        "\n",
        "# Assuming images and labels are already loaded as NumPy arrays\n",
        "images_label_1 = df.images[df.target == 1]  # Select only images where label is 1\n",
        "\n",
        "# Print shape of filtered images\n",
        "print(images_label_1)\n"
      ],
      "metadata": {
        "colab": {
          "base_uri": "https://localhost:8080/"
        },
        "id": "obmSvcP5wxKs",
        "outputId": "1c591f24-2432-4f50-a27c-bb323dcaf9ea"
      },
      "execution_count": null,
      "outputs": [
        {
          "output_type": "stream",
          "name": "stdout",
          "text": [
            "[[[0.04705882 0.01699346 0.02352941 ... 0.02745098 0.02352941 0.02222222]\n",
            "  [0.2771242  0.13202615 0.03529412 ... 0.02745098 0.02222222 0.02222222]\n",
            "  [0.50849676 0.3882353  0.21960784 ... 0.03006536 0.02091503 0.01437909]\n",
            "  ...\n",
            "  [0.43529412 0.39607844 0.3267974  ... 0.1006536  0.19215687 0.25490198]\n",
            "  [0.33333334 0.3019608  0.27189544 ... 0.07189543 0.16078432 0.21960784]\n",
            "  [0.26666668 0.23660131 0.22352941 ... 0.06535948 0.14248367 0.20130719]]\n",
            "\n",
            " [[0.24705882 0.28627452 0.30718955 ... 0.7660131  0.66013074 0.5163399 ]\n",
            "  [0.27320263 0.2901961  0.30588236 ... 0.76732033 0.69673204 0.5267974 ]\n",
            "  [0.28235295 0.29542485 0.32026145 ... 0.73071903 0.7320261  0.5764706 ]\n",
            "  ...\n",
            "  [0.20261438 0.530719   0.6653595  ... 0.27450982 0.38431373 0.43398693]\n",
            "  [0.07320262 0.33071896 0.6366013  ... 0.22222222 0.4013072  0.45098042]\n",
            "  [0.0496732  0.14771242 0.5294118  ... 0.20261438 0.30588236 0.43398693]]\n",
            "\n",
            " [[0.45751634 0.44313726 0.47843137 ... 0.09411765 0.05490196 0.0496732 ]\n",
            "  [0.5045752  0.503268   0.5137255  ... 0.08366013 0.05490196 0.04183007]\n",
            "  [0.48366013 0.5058824  0.5150327  ... 0.1633987  0.04183007 0.04052288]\n",
            "  ...\n",
            "  [0.11503268 0.07973856 0.08888889 ... 0.21960784 0.17908497 0.19738562]\n",
            "  [0.11764706 0.08888889 0.07973856 ... 0.1633987  0.18954249 0.19084968]\n",
            "  [0.12287582 0.08366013 0.08366013 ... 0.17124183 0.20261438 0.19869281]]\n",
            "\n",
            " ...\n",
            "\n",
            " [[0.4143791  0.17385621 0.19346406 ... 0.6431373  0.63137263 0.63398695]\n",
            "  [0.6130719  0.4405229  0.47189543 ... 0.6418301  0.65751636 0.6862745 ]\n",
            "  [0.5058824  0.5281046  0.56993467 ... 0.6627451  0.69803923 0.7098039 ]\n",
            "  ...\n",
            "  [0.11111111 0.10718954 0.2771242  ... 0.20392157 0.22091503 0.22745098]\n",
            "  [0.13594772 0.11633987 0.15424837 ... 0.22745098 0.22352941 0.22614379]\n",
            "  [0.1267974  0.13333334 0.12026144 ... 0.23006536 0.23006536 0.22222222]]\n",
            "\n",
            " [[0.55947715 0.5555556  0.5424837  ... 0.5738562  0.61960787 0.6039216 ]\n",
            "  [0.5529412  0.54509807 0.5542484  ... 0.57124186 0.6        0.59738564]\n",
            "  [0.54901963 0.54901963 0.62352943 ... 0.52287585 0.5620915  0.579085  ]\n",
            "  ...\n",
            "  [0.45228758 0.41960785 0.3529412  ... 0.27189544 0.34248367 0.5137255 ]\n",
            "  [0.4627451  0.42352942 0.3620915  ... 0.42352942 0.6509804  0.7856209 ]\n",
            "  [0.51111114 0.4379085  0.3633987  ... 0.7542484  0.8169935  0.78431374]]\n",
            "\n",
            " [[0.38039216 0.32941177 0.3150327  ... 0.3673203  0.37385622 0.4       ]\n",
            "  [0.38300654 0.33202615 0.31633988 ... 0.37385622 0.3764706  0.39215687]\n",
            "  [0.34379086 0.32418302 0.3267974  ... 0.36993468 0.36209154 0.3764706 ]\n",
            "  ...\n",
            "  [0.3647059  0.54509807 0.6013072  ... 0.7098039  0.56993467 0.3006536 ]\n",
            "  [0.3398693  0.52418303 0.63529414 ... 0.7294118  0.5673203  0.27450982]\n",
            "  [0.33333334 0.5150327  0.6509804  ... 0.7424837  0.56993467 0.2535948 ]]]\n"
          ]
        }
      ]
    },
    {
      "cell_type": "code",
      "source": [
        "import matplotlib.pyplot as plt\n",
        "\n",
        "# Iterate over images and show them\n",
        "for i in range(min(5, len(images_label_1))):  # Show up to 5 images\n",
        "    plt.imshow(images_label_1[i], cmap='gray')  # Convert series to NumPy array\n",
        "    plt.axis('off')  # Hide axes\n",
        "    plt.show()\n"
      ],
      "metadata": {
        "colab": {
          "base_uri": "https://localhost:8080/",
          "height": 1000
        },
        "id": "6NKtto9WxlUk",
        "outputId": "b02bbda4-704b-48e5-cbc4-20f1c719dee8"
      },
      "execution_count": null,
      "outputs": [
        {
          "output_type": "display_data",
          "data": {
            "text/plain": [
              "<Figure size 640x480 with 1 Axes>"
            ],
            "image/png": "[encoded data removed]"
          },
          "metadata": {}
        },
        {
          "output_type": "display_data",
          "data": {
            "text/plain": [
              "<Figure size 640x480 with 1 Axes>"
            ],
            "image/png": "[encoded data removed]"
          },
          "metadata": {}
        },
        {
          "output_type": "display_data",
          "data": {
            "text/plain": [
              "<Figure size 640x480 with 1 Axes>"
            ],
            "image/png": "[encoded data removed]"
          },
          "metadata": {}
        },
        {
          "output_type": "display_data",
          "data": {
            "text/plain": [
              "<Figure size 640x480 with 1 Axes>"
            ],
            "image/png": "[encoded data removed]"
          },
          "metadata": {}
        },
        {
          "output_type": "display_data",
          "data": {
            "text/plain": [
              "<Figure size 640x480 with 1 Axes>"
            ],
            "image/png": "[encoded data removed]"
          },
          "metadata": {}
        }
      ]
    },
    {
      "cell_type": "code",
      "source": [
        "import matplotlib.pyplot as plt\n",
        "import numpy as np\n",
        "\n",
        "# Reshape first image (assuming a shape of 50x37 or 43x43)\n",
        "image = df.data[1].reshape((50, 37))  # Adjust based on the actual image dimensions\n",
        "\n",
        "# Display the image\n",
        "plt.imshow(image, cmap='gray')\n",
        "plt.axis('off')\n",
        "plt.show()\n"
      ],
      "metadata": {
        "colab": {
          "base_uri": "https://localhost:8080/",
          "height": 406
        },
        "id": "imNNJyuMaBnk",
        "outputId": "cda4510f-a6f5-48f1-a7fe-97b90ae1a50a"
      },
      "execution_count": null,
      "outputs": [
        {
          "output_type": "display_data",
          "data": {
            "text/plain": [
              "<Figure size 640x480 with 1 Axes>"
            ],
            "image/png": "[encoded data removed]"
          },
          "metadata": {}
        }
      ]
    },
    {
      "cell_type": "markdown",
      "source": [
        "<br>\n",
        "\n",
        "# Seperating x and y\n",
        "\n",
        "<br>"
      ],
      "metadata": {
        "id": "QM2BSDvw80pA"
      }
    },
    {
      "cell_type": "code",
      "source": [
        "x, y = df.images, df.target"
      ],
      "metadata": {
        "id": "b-qupHuG9Vv_"
      },
      "execution_count": null,
      "outputs": []
    },
    {
      "cell_type": "code",
      "source": [
        "target_names = df.target_names"
      ],
      "metadata": {
        "id": "egpiOxua94Be"
      },
      "execution_count": null,
      "outputs": []
    },
    {
      "cell_type": "code",
      "source": [
        "print(f\"x shape: {x.shape}, y shape: {y.shape}\")"
      ],
      "metadata": {
        "colab": {
          "base_uri": "https://localhost:8080/"
        },
        "id": "97vHmMUb9_wx",
        "outputId": "7e715a2f-10ee-4aaa-f09a-a750dac3c31e"
      },
      "execution_count": null,
      "outputs": [
        {
          "output_type": "stream",
          "name": "stdout",
          "text": [
            "x shape: (1288, 50, 37), y shape: (1288,)\n"
          ]
        }
      ]
    },
    {
      "cell_type": "markdown",
      "source": [
        "<br>\n",
        "\n",
        "# Reshaping x for CNN Ease\n",
        "\n",
        "<br>"
      ],
      "metadata": {
        "id": "agYCvXaj-TFD"
      }
    },
    {
      "cell_type": "code",
      "source": [
        "x = x.reshape(x.shape[0], x.shape[1], x.shape[2], 1)"
      ],
      "metadata": {
        "id": "sxEUgzrp-5dV"
      },
      "execution_count": null,
      "outputs": []
    },
    {
      "cell_type": "markdown",
      "source": [
        "<br>\n",
        "\n",
        "# One-hot Encoding of y\n",
        "\n",
        "<br>\n"
      ],
      "metadata": {
        "id": "NjmRfwhn_l0G"
      }
    },
    {
      "cell_type": "code",
      "source": [
        "from tensorflow.keras.utils import to_categorical"
      ],
      "metadata": {
        "id": "cD7YyZXD_ugH"
      },
      "execution_count": null,
      "outputs": []
    },
    {
      "cell_type": "code",
      "source": [
        "y_categorical = to_categorical(y)\n",
        "y_categorical"
      ],
      "metadata": {
        "colab": {
          "base_uri": "https://localhost:8080/"
        },
        "id": "jD65KggK_5nK",
        "outputId": "2b1b23f2-d885-4dcc-e7f3-97605f1821c5"
      },
      "execution_count": null,
      "outputs": [
        {
          "output_type": "execute_result",
          "data": {
            "text/plain": [
              "array([[0., 0., 0., ..., 0., 1., 0.],\n",
              "       [0., 0., 0., ..., 0., 0., 1.],\n",
              "       [0., 0., 0., ..., 0., 0., 0.],\n",
              "       ...,\n",
              "       [0., 0., 0., ..., 0., 1., 0.],\n",
              "       [0., 0., 0., ..., 0., 0., 0.],\n",
              "       [0., 0., 0., ..., 0., 1., 0.]])"
            ]
          },
          "metadata": {},
          "execution_count": 8
        }
      ]
    },
    {
      "cell_type": "markdown",
      "source": [
        "<br>\n",
        "\n",
        "# Train Test Split\n",
        "\n",
        "<br>"
      ],
      "metadata": {
        "id": "RtF_XE1XAEaX"
      }
    },
    {
      "cell_type": "code",
      "source": [
        "from sklearn.model_selection import train_test_split"
      ],
      "metadata": {
        "id": "EjvTQBbOBUan"
      },
      "execution_count": null,
      "outputs": []
    },
    {
      "cell_type": "code",
      "source": [
        "x_train, x_test, y_train, y_test = train_test_split(x, y_categorical, test_size=0.2, random_state=42)\n",
        "\n",
        "print(f\"Training data: {x_train.shape}, Test data: {x_test.shape}\")"
      ],
      "metadata": {
        "colab": {
          "base_uri": "https://localhost:8080/"
        },
        "id": "zzuRviz5BYmi",
        "outputId": "b5306931-dd97-430b-b094-c25fafeac725"
      },
      "execution_count": null,
      "outputs": [
        {
          "output_type": "stream",
          "name": "stdout",
          "text": [
            "Training data: (1030, 50, 37, 1), Test data: (258, 50, 37, 1)\n"
          ]
        }
      ]
    },
    {
      "cell_type": "code",
      "source": [
        "x_train\n",
        "x_test\n",
        "y_train\n",
        "y_test"
      ],
      "metadata": {
        "colab": {
          "base_uri": "https://localhost:8080/"
        },
        "id": "fbWx33ASBgEA",
        "outputId": "fcd680b5-a884-4861-eca3-45c97b642ca1"
      },
      "execution_count": null,
      "outputs": [
        {
          "output_type": "execute_result",
          "data": {
            "text/plain": [
              "array([[0., 0., 0., ..., 0., 0., 0.],\n",
              "       [0., 0., 0., ..., 0., 0., 0.],\n",
              "       [0., 0., 0., ..., 0., 0., 1.],\n",
              "       ...,\n",
              "       [0., 0., 0., ..., 1., 0., 0.],\n",
              "       [0., 0., 1., ..., 0., 0., 0.],\n",
              "       [0., 1., 0., ..., 0., 0., 0.]])"
            ]
          },
          "metadata": {},
          "execution_count": 12
        }
      ]
    },
    {
      "cell_type": "markdown",
      "source": [
        "<br>\n",
        "\n",
        "# Building Sequential Layers\n",
        "\n",
        "<br>"
      ],
      "metadata": {
        "id": "9LnvHCMiBp7Q"
      }
    },
    {
      "cell_type": "code",
      "source": [
        "import tensorflow as tf\n",
        "from tensorflow.keras.models import Sequential\n",
        "from tensorflow.keras.layers import Conv2D, MaxPooling2D, Flatten, Dense"
      ],
      "metadata": {
        "id": "wpTMNOSRC6X3"
      },
      "execution_count": null,
      "outputs": []
    },
    {
      "cell_type": "code",
      "source": [
        "import tensorflow as tf\n",
        "from tensorflow.keras.models import Sequential\n",
        "from tensorflow.keras.layers import Conv2D, MaxPooling2D, Flatten, Dense, Dropout\n",
        "\n",
        "# Define CNN model\n",
        "model = Sequential([\n",
        "    Conv2D(32, (3,3), activation='relu', input_shape=(50, 37, 1)),\n",
        "    MaxPooling2D(2,2),\n",
        "\n",
        "    Conv2D(64, (3,3), activation='relu'),\n",
        "    MaxPooling2D(2,2),\n",
        "\n",
        "    Flatten(),\n",
        "    Dense(128, activation='relu'),\n",
        "    Dropout(0.5),\n",
        "    Dense(len(target_names), activation='softmax')  # Output layer\n",
        "])\n",
        "\n",
        "# Compile the model\n",
        "model.compile(optimizer='adam', loss='categorical_crossentropy', metrics=['accuracy'])\n",
        "\n",
        "# Model summary\n",
        "model.summary()\n"
      ],
      "metadata": {
        "colab": {
          "base_uri": "https://localhost:8080/",
          "height": 463
        },
        "id": "p8_-GJ4qDVxO",
        "outputId": "55041c7a-58dd-40e8-f9d2-a8a027a6ffbc"
      },
      "execution_count": null,
      "outputs": [
        {
          "output_type": "stream",
          "name": "stderr",
          "text": [
            "/usr/local/lib/python3.11/dist-packages/keras/src/layers/convolutional/base_conv.py:107: UserWarning: Do not pass an `input_shape`/`input_dim` argument to a layer. When using Sequential models, prefer using an `Input(shape)` object as the first layer in the model instead.\n",
            "  super().__init__(activity_regularizer=activity_regularizer, **kwargs)\n"
          ]
        },
        {
          "output_type": "display_data",
          "data": {
            "text/plain": [
              "\u001b[1mModel: \"sequential\"\u001b[0m\n"
            ],
            "text/html": [
              "<pre style=\"white-space:pre;overflow-x:auto;line-height:normal;font-family:Menlo,'DejaVu Sans Mono',consolas,'Courier New',monospace\"><span style=\"font-weight: bold\">Model: \"sequential\"</span>\n",
              "</pre>\n"
            ]
          },
          "metadata": {}
        },
        {
          "output_type": "display_data",
          "data": {
            "text/plain": [
              "┏━━━━━━━━━━━━━━━━━━━━━━━━━━━━━━━━━━━━━━┳━━━━━━━━━━━━━━━━━━━━━━━━━━━━━┳━━━━━━━━━━━━━━━━━┓\n",
              "┃\u001b[1m \u001b[0m\u001b[1mLayer (type)                        \u001b[0m\u001b[1m \u001b[0m┃\u001b[1m \u001b[0m\u001b[1mOutput Shape               \u001b[0m\u001b[1m \u001b[0m┃\u001b[1m \u001b[0m\u001b[1m        Param #\u001b[0m\u001b[1m \u001b[0m┃\n",
              "┡━━━━━━━━━━━━━━━━━━━━━━━━━━━━━━━━━━━━━━╇━━━━━━━━━━━━━━━━━━━━━━━━━━━━━╇━━━━━━━━━━━━━━━━━┩\n",
              "│ conv2d (\u001b[38;5;33mConv2D\u001b[0m)                      │ (\u001b[38;5;45mNone\u001b[0m, \u001b[38;5;34m48\u001b[0m, \u001b[38;5;34m35\u001b[0m, \u001b[38;5;34m32\u001b[0m)          │             \u001b[38;5;34m320\u001b[0m │\n",
              "├──────────────────────────────────────┼─────────────────────────────┼─────────────────┤\n",
              "│ max_pooling2d (\u001b[38;5;33mMaxPooling2D\u001b[0m)         │ (\u001b[38;5;45mNone\u001b[0m, \u001b[38;5;34m24\u001b[0m, \u001b[38;5;34m17\u001b[0m, \u001b[38;5;34m32\u001b[0m)          │               \u001b[38;5;34m0\u001b[0m │\n",
              "├──────────────────────────────────────┼─────────────────────────────┼─────────────────┤\n",
              "│ conv2d_1 (\u001b[38;5;33mConv2D\u001b[0m)                    │ (\u001b[38;5;45mNone\u001b[0m, \u001b[38;5;34m22\u001b[0m, \u001b[38;5;34m15\u001b[0m, \u001b[38;5;34m64\u001b[0m)          │          \u001b[38;5;34m18,496\u001b[0m │\n",
              "├──────────────────────────────────────┼─────────────────────────────┼─────────────────┤\n",
              "│ max_pooling2d_1 (\u001b[38;5;33mMaxPooling2D\u001b[0m)       │ (\u001b[38;5;45mNone\u001b[0m, \u001b[38;5;34m11\u001b[0m, \u001b[38;5;34m7\u001b[0m, \u001b[38;5;34m64\u001b[0m)           │               \u001b[38;5;34m0\u001b[0m │\n",
              "├──────────────────────────────────────┼─────────────────────────────┼─────────────────┤\n",
              "│ flatten (\u001b[38;5;33mFlatten\u001b[0m)                    │ (\u001b[38;5;45mNone\u001b[0m, \u001b[38;5;34m4928\u001b[0m)                │               \u001b[38;5;34m0\u001b[0m │\n",
              "├──────────────────────────────────────┼─────────────────────────────┼─────────────────┤\n",
              "│ dense (\u001b[38;5;33mDense\u001b[0m)                        │ (\u001b[38;5;45mNone\u001b[0m, \u001b[38;5;34m128\u001b[0m)                 │         \u001b[38;5;34m630,912\u001b[0m │\n",
              "├──────────────────────────────────────┼─────────────────────────────┼─────────────────┤\n",
              "│ dropout (\u001b[38;5;33mDropout\u001b[0m)                    │ (\u001b[38;5;45mNone\u001b[0m, \u001b[38;5;34m128\u001b[0m)                 │               \u001b[38;5;34m0\u001b[0m │\n",
              "├──────────────────────────────────────┼─────────────────────────────┼─────────────────┤\n",
              "│ dense_1 (\u001b[38;5;33mDense\u001b[0m)                      │ (\u001b[38;5;45mNone\u001b[0m, \u001b[38;5;34m7\u001b[0m)                   │             \u001b[38;5;34m903\u001b[0m │\n",
              "└──────────────────────────────────────┴─────────────────────────────┴─────────────────┘\n"
            ],
            "text/html": [
              "<pre style=\"white-space:pre;overflow-x:auto;line-height:normal;font-family:Menlo,'DejaVu Sans Mono',consolas,'Courier New',monospace\">┏━━━━━━━━━━━━━━━━━━━━━━━━━━━━━━━━━━━━━━┳━━━━━━━━━━━━━━━━━━━━━━━━━━━━━┳━━━━━━━━━━━━━━━━━┓\n",
              "┃<span style=\"font-weight: bold\"> Layer (type)                         </span>┃<span style=\"font-weight: bold\"> Output Shape                </span>┃<span style=\"font-weight: bold\">         Param # </span>┃\n",
              "┡━━━━━━━━━━━━━━━━━━━━━━━━━━━━━━━━━━━━━━╇━━━━━━━━━━━━━━━━━━━━━━━━━━━━━╇━━━━━━━━━━━━━━━━━┩\n",
              "│ conv2d (<span style=\"color: #0087ff; text-decoration-color: #0087ff\">Conv2D</span>)                      │ (<span style=\"color: #00d7ff; text-decoration-color: #00d7ff\">None</span>, <span style=\"color: #00af00; text-decoration-color: #00af00\">48</span>, <span style=\"color: #00af00; text-decoration-color: #00af00\">35</span>, <span style=\"color: #00af00; text-decoration-color: #00af00\">32</span>)          │             <span style=\"color: #00af00; text-decoration-color: #00af00\">320</span> │\n",
              "├──────────────────────────────────────┼─────────────────────────────┼─────────────────┤\n",
              "│ max_pooling2d (<span style=\"color: #0087ff; text-decoration-color: #0087ff\">MaxPooling2D</span>)         │ (<span style=\"color: #00d7ff; text-decoration-color: #00d7ff\">None</span>, <span style=\"color: #00af00; text-decoration-color: #00af00\">24</span>, <span style=\"color: #00af00; text-decoration-color: #00af00\">17</span>, <span style=\"color: #00af00; text-decoration-color: #00af00\">32</span>)          │               <span style=\"color: #00af00; text-decoration-color: #00af00\">0</span> │\n",
              "├──────────────────────────────────────┼─────────────────────────────┼─────────────────┤\n",
              "│ conv2d_1 (<span style=\"color: #0087ff; text-decoration-color: #0087ff\">Conv2D</span>)                    │ (<span style=\"color: #00d7ff; text-decoration-color: #00d7ff\">None</span>, <span style=\"color: #00af00; text-decoration-color: #00af00\">22</span>, <span style=\"color: #00af00; text-decoration-color: #00af00\">15</span>, <span style=\"color: #00af00; text-decoration-color: #00af00\">64</span>)          │          <span style=\"color: #00af00; text-decoration-color: #00af00\">18,496</span> │\n",
              "├──────────────────────────────────────┼─────────────────────────────┼─────────────────┤\n",
              "│ max_pooling2d_1 (<span style=\"color: #0087ff; text-decoration-color: #0087ff\">MaxPooling2D</span>)       │ (<span style=\"color: #00d7ff; text-decoration-color: #00d7ff\">None</span>, <span style=\"color: #00af00; text-decoration-color: #00af00\">11</span>, <span style=\"color: #00af00; text-decoration-color: #00af00\">7</span>, <span style=\"color: #00af00; text-decoration-color: #00af00\">64</span>)           │               <span style=\"color: #00af00; text-decoration-color: #00af00\">0</span> │\n",
              "├──────────────────────────────────────┼─────────────────────────────┼─────────────────┤\n",
              "│ flatten (<span style=\"color: #0087ff; text-decoration-color: #0087ff\">Flatten</span>)                    │ (<span style=\"color: #00d7ff; text-decoration-color: #00d7ff\">None</span>, <span style=\"color: #00af00; text-decoration-color: #00af00\">4928</span>)                │               <span style=\"color: #00af00; text-decoration-color: #00af00\">0</span> │\n",
              "├──────────────────────────────────────┼─────────────────────────────┼─────────────────┤\n",
              "│ dense (<span style=\"color: #0087ff; text-decoration-color: #0087ff\">Dense</span>)                        │ (<span style=\"color: #00d7ff; text-decoration-color: #00d7ff\">None</span>, <span style=\"color: #00af00; text-decoration-color: #00af00\">128</span>)                 │         <span style=\"color: #00af00; text-decoration-color: #00af00\">630,912</span> │\n",
              "├──────────────────────────────────────┼─────────────────────────────┼─────────────────┤\n",
              "│ dropout (<span style=\"color: #0087ff; text-decoration-color: #0087ff\">Dropout</span>)                    │ (<span style=\"color: #00d7ff; text-decoration-color: #00d7ff\">None</span>, <span style=\"color: #00af00; text-decoration-color: #00af00\">128</span>)                 │               <span style=\"color: #00af00; text-decoration-color: #00af00\">0</span> │\n",
              "├──────────────────────────────────────┼─────────────────────────────┼─────────────────┤\n",
              "│ dense_1 (<span style=\"color: #0087ff; text-decoration-color: #0087ff\">Dense</span>)                      │ (<span style=\"color: #00d7ff; text-decoration-color: #00d7ff\">None</span>, <span style=\"color: #00af00; text-decoration-color: #00af00\">7</span>)                   │             <span style=\"color: #00af00; text-decoration-color: #00af00\">903</span> │\n",
              "└──────────────────────────────────────┴─────────────────────────────┴─────────────────┘\n",
              "</pre>\n"
            ]
          },
          "metadata": {}
        },
        {
          "output_type": "display_data",
          "data": {
            "text/plain": [
              "\u001b[1m Total params: \u001b[0m\u001b[38;5;34m650,631\u001b[0m (2.48 MB)\n"
            ],
            "text/html": [
              "<pre style=\"white-space:pre;overflow-x:auto;line-height:normal;font-family:Menlo,'DejaVu Sans Mono',consolas,'Courier New',monospace\"><span style=\"font-weight: bold\"> Total params: </span><span style=\"color: #00af00; text-decoration-color: #00af00\">650,631</span> (2.48 MB)\n",
              "</pre>\n"
            ]
          },
          "metadata": {}
        },
        {
          "output_type": "display_data",
          "data": {
            "text/plain": [
              "\u001b[1m Trainable params: \u001b[0m\u001b[38;5;34m650,631\u001b[0m (2.48 MB)\n"
            ],
            "text/html": [
              "<pre style=\"white-space:pre;overflow-x:auto;line-height:normal;font-family:Menlo,'DejaVu Sans Mono',consolas,'Courier New',monospace\"><span style=\"font-weight: bold\"> Trainable params: </span><span style=\"color: #00af00; text-decoration-color: #00af00\">650,631</span> (2.48 MB)\n",
              "</pre>\n"
            ]
          },
          "metadata": {}
        },
        {
          "output_type": "display_data",
          "data": {
            "text/plain": [
              "\u001b[1m Non-trainable params: \u001b[0m\u001b[38;5;34m0\u001b[0m (0.00 B)\n"
            ],
            "text/html": [
              "<pre style=\"white-space:pre;overflow-x:auto;line-height:normal;font-family:Menlo,'DejaVu Sans Mono',consolas,'Courier New',monospace\"><span style=\"font-weight: bold\"> Non-trainable params: </span><span style=\"color: #00af00; text-decoration-color: #00af00\">0</span> (0.00 B)\n",
              "</pre>\n"
            ]
          },
          "metadata": {}
        }
      ]
    },
    {
      "cell_type": "markdown",
      "source": [
        "<br>\n",
        "\n",
        "# Fitting Model\n",
        "\n",
        "<br>"
      ],
      "metadata": {
        "id": "m3RZ6KIbFFI4"
      }
    },
    {
      "cell_type": "code",
      "source": [
        "history = model.fit(x_train, y_train, epochs=20, batch_size=32, validation_data=(x_test, y_test))\n",
        "history"
      ],
      "metadata": {
        "colab": {
          "base_uri": "https://localhost:8080/"
        },
        "id": "2pm4rZvNFRfn",
        "outputId": "2e3ec98b-4903-4570-9abe-8c3194389b6a"
      },
      "execution_count": null,
      "outputs": [
        {
          "output_type": "stream",
          "name": "stdout",
          "text": [
            "Epoch 1/20\n",
            "\u001b[1m33/33\u001b[0m \u001b[32m━━━━━━━━━━━━━━━━━━━━\u001b[0m\u001b[37m\u001b[0m \u001b[1m5s\u001b[0m 82ms/step - accuracy: 0.3299 - loss: 1.8265 - val_accuracy: 0.4612 - val_loss: 1.6099\n",
            "Epoch 2/20\n",
            "\u001b[1m33/33\u001b[0m \u001b[32m━━━━━━━━━━━━━━━━━━━━\u001b[0m\u001b[37m\u001b[0m \u001b[1m3s\u001b[0m 77ms/step - accuracy: 0.3752 - loss: 1.7626 - val_accuracy: 0.4612 - val_loss: 1.5650\n",
            "Epoch 3/20\n",
            "\u001b[1m33/33\u001b[0m \u001b[32m━━━━━━━━━━━━━━━━━━━━\u001b[0m\u001b[37m\u001b[0m \u001b[1m3s\u001b[0m 100ms/step - accuracy: 0.4061 - loss: 1.6549 - val_accuracy: 0.4690 - val_loss: 1.4550\n",
            "Epoch 4/20\n",
            "\u001b[1m33/33\u001b[0m \u001b[32m━━━━━━━━━━━━━━━━━━━━\u001b[0m\u001b[37m\u001b[0m \u001b[1m2s\u001b[0m 74ms/step - accuracy: 0.4556 - loss: 1.5267 - val_accuracy: 0.5426 - val_loss: 1.2889\n",
            "Epoch 5/20\n",
            "\u001b[1m33/33\u001b[0m \u001b[32m━━━━━━━━━━━━━━━━━━━━\u001b[0m\u001b[37m\u001b[0m \u001b[1m2s\u001b[0m 69ms/step - accuracy: 0.5040 - loss: 1.3722 - val_accuracy: 0.6395 - val_loss: 1.1122\n",
            "Epoch 6/20\n",
            "\u001b[1m33/33\u001b[0m \u001b[32m━━━━━━━━━━━━━━━━━━━━\u001b[0m\u001b[37m\u001b[0m \u001b[1m2s\u001b[0m 69ms/step - accuracy: 0.5946 - loss: 1.1558 - val_accuracy: 0.7093 - val_loss: 0.9731\n",
            "Epoch 7/20\n",
            "\u001b[1m33/33\u001b[0m \u001b[32m━━━━━━━━━━━━━━━━━━━━\u001b[0m\u001b[37m\u001b[0m \u001b[1m3s\u001b[0m 84ms/step - accuracy: 0.6355 - loss: 1.0464 - val_accuracy: 0.7054 - val_loss: 0.8918\n",
            "Epoch 8/20\n",
            "\u001b[1m33/33\u001b[0m \u001b[32m━━━━━━━━━━━━━━━━━━━━\u001b[0m\u001b[37m\u001b[0m \u001b[1m5s\u001b[0m 72ms/step - accuracy: 0.6640 - loss: 0.8735 - val_accuracy: 0.7558 - val_loss: 0.7614\n",
            "Epoch 9/20\n",
            "\u001b[1m33/33\u001b[0m \u001b[32m━━━━━━━━━━━━━━━━━━━━\u001b[0m\u001b[37m\u001b[0m \u001b[1m2s\u001b[0m 75ms/step - accuracy: 0.7231 - loss: 0.8002 - val_accuracy: 0.8101 - val_loss: 0.6767\n",
            "Epoch 10/20\n",
            "\u001b[1m33/33\u001b[0m \u001b[32m━━━━━━━━━━━━━━━━━━━━\u001b[0m\u001b[37m\u001b[0m \u001b[1m2s\u001b[0m 71ms/step - accuracy: 0.7884 - loss: 0.6363 - val_accuracy: 0.8217 - val_loss: 0.6411\n",
            "Epoch 11/20\n",
            "\u001b[1m33/33\u001b[0m \u001b[32m━━━━━━━━━━━━━━━━━━━━\u001b[0m\u001b[37m\u001b[0m \u001b[1m3s\u001b[0m 98ms/step - accuracy: 0.7776 - loss: 0.6643 - val_accuracy: 0.7946 - val_loss: 0.6298\n",
            "Epoch 12/20\n",
            "\u001b[1m33/33\u001b[0m \u001b[32m━━━━━━━━━━━━━━━━━━━━\u001b[0m\u001b[37m\u001b[0m \u001b[1m4s\u001b[0m 72ms/step - accuracy: 0.7849 - loss: 0.5718 - val_accuracy: 0.7519 - val_loss: 0.7027\n",
            "Epoch 13/20\n",
            "\u001b[1m33/33\u001b[0m \u001b[32m━━━━━━━━━━━━━━━━━━━━\u001b[0m\u001b[37m\u001b[0m \u001b[1m2s\u001b[0m 70ms/step - accuracy: 0.8057 - loss: 0.5335 - val_accuracy: 0.8372 - val_loss: 0.5618\n",
            "Epoch 14/20\n",
            "\u001b[1m33/33\u001b[0m \u001b[32m━━━━━━━━━━━━━━━━━━━━\u001b[0m\u001b[37m\u001b[0m \u001b[1m3s\u001b[0m 73ms/step - accuracy: 0.8389 - loss: 0.4645 - val_accuracy: 0.8643 - val_loss: 0.5216\n",
            "Epoch 15/20\n",
            "\u001b[1m33/33\u001b[0m \u001b[32m━━━━━━━━━━━━━━━━━━━━\u001b[0m\u001b[37m\u001b[0m \u001b[1m3s\u001b[0m 99ms/step - accuracy: 0.8555 - loss: 0.4167 - val_accuracy: 0.8566 - val_loss: 0.5002\n",
            "Epoch 16/20\n",
            "\u001b[1m33/33\u001b[0m \u001b[32m━━━━━━━━━━━━━━━━━━━━\u001b[0m\u001b[37m\u001b[0m \u001b[1m3s\u001b[0m 82ms/step - accuracy: 0.8858 - loss: 0.3651 - val_accuracy: 0.8760 - val_loss: 0.4675\n",
            "Epoch 17/20\n",
            "\u001b[1m33/33\u001b[0m \u001b[32m━━━━━━━━━━━━━━━━━━━━\u001b[0m\u001b[37m\u001b[0m \u001b[1m5s\u001b[0m 69ms/step - accuracy: 0.8776 - loss: 0.3523 - val_accuracy: 0.8643 - val_loss: 0.4528\n",
            "Epoch 18/20\n",
            "\u001b[1m33/33\u001b[0m \u001b[32m━━━━━━━━━━━━━━━━━━━━\u001b[0m\u001b[37m\u001b[0m \u001b[1m3s\u001b[0m 75ms/step - accuracy: 0.8718 - loss: 0.3450 - val_accuracy: 0.8798 - val_loss: 0.4371\n",
            "Epoch 19/20\n",
            "\u001b[1m33/33\u001b[0m \u001b[32m━━━━━━━━━━━━━━━━━━━━\u001b[0m\u001b[37m\u001b[0m \u001b[1m3s\u001b[0m 106ms/step - accuracy: 0.8960 - loss: 0.3074 - val_accuracy: 0.8837 - val_loss: 0.4180\n",
            "Epoch 20/20\n",
            "\u001b[1m33/33\u001b[0m \u001b[32m━━━━━━━━━━━━━━━━━━━━\u001b[0m\u001b[37m\u001b[0m \u001b[1m4s\u001b[0m 69ms/step - accuracy: 0.9166 - loss: 0.2321 - val_accuracy: 0.8760 - val_loss: 0.4091\n"
          ]
        },
        {
          "output_type": "execute_result",
          "data": {
            "text/plain": [
              "<keras.src.callbacks.history.History at 0x7b64e74b7290>"
            ]
          },
          "metadata": {},
          "execution_count": 15
        }
      ]
    },
    {
      "cell_type": "markdown",
      "source": [
        "<br>\n",
        "\n",
        "# Model Accuracy\n",
        "\n",
        "<br>"
      ],
      "metadata": {
        "id": "t44Q6YwbHIej"
      }
    },
    {
      "cell_type": "code",
      "source": [
        "test_loss, test_acc = model.evaluate(x_test, y_test)\n",
        "print(f\"Test Accuracy: {test_acc * 100:.3f} %\")"
      ],
      "metadata": {
        "colab": {
          "base_uri": "https://localhost:8080/"
        },
        "id": "goCIfpqQHi9-",
        "outputId": "7b1751e3-9276-4d47-f5ae-945989f4f170"
      },
      "execution_count": null,
      "outputs": [
        {
          "output_type": "stream",
          "name": "stdout",
          "text": [
            "\u001b[1m9/9\u001b[0m \u001b[32m━━━━━━━━━━━━━━━━━━━━\u001b[0m\u001b[37m\u001b[0m \u001b[1m0s\u001b[0m 21ms/step - accuracy: 0.8817 - loss: 0.4260\n",
            "Test Accuracy: 87.597 %\n"
          ]
        }
      ]
    },
    {
      "cell_type": "markdown",
      "source": [
        "<br>\n",
        "\n",
        "# Classification Report\n",
        "\n",
        "<br>"
      ],
      "metadata": {
        "id": "otyI27QrK1Rz"
      }
    },
    {
      "cell_type": "code",
      "source": [
        "from sklearn.metrics import classification_report\n",
        "import numpy as np\n",
        "\n",
        "y_pred = model.predict(x_test)\n",
        "\n",
        "y_pred_classes = np.argmax(y_pred, axis=1)\n",
        "y_true_classes = np.argmax(y_test, axis=1)\n",
        "\n",
        "report = classification_report(y_true_classes, y_pred_classes, target_names=target_names)\n",
        "print(report)\n"
      ],
      "metadata": {
        "colab": {
          "base_uri": "https://localhost:8080/"
        },
        "id": "tAgezR_FLilK",
        "outputId": "48a7de8c-fe84-485e-86bc-dff3a9a8c63c"
      },
      "execution_count": null,
      "outputs": [
        {
          "output_type": "stream",
          "name": "stdout",
          "text": [
            "\u001b[1m9/9\u001b[0m \u001b[32m━━━━━━━━━━━━━━━━━━━━\u001b[0m\u001b[37m\u001b[0m \u001b[1m0s\u001b[0m 26ms/step\n",
            "                   precision    recall  f1-score   support\n",
            "\n",
            "     Ariel Sharon       0.78      0.64      0.70        11\n",
            "     Colin Powell       0.85      0.94      0.89        47\n",
            "  Donald Rumsfeld       0.89      0.73      0.80        22\n",
            "    George W Bush       0.93      0.97      0.95       119\n",
            "Gerhard Schroeder       0.75      0.79      0.77        19\n",
            "      Hugo Chavez       0.75      0.46      0.57        13\n",
            "       Tony Blair       0.85      0.81      0.83        27\n",
            "\n",
            "         accuracy                           0.88       258\n",
            "        macro avg       0.83      0.76      0.79       258\n",
            "     weighted avg       0.87      0.88      0.87       258\n",
            "\n"
          ]
        }
      ]
    },
    {
      "cell_type": "markdown",
      "source": [
        "<br>\n",
        "\n",
        "# Image Name Predictor\n",
        "\n",
        "<br>"
      ],
      "metadata": {
        "id": "7d0Vm-l-L9Fq"
      }
    },
    {
      "cell_type": "code",
      "source": [
        "import numpy as np\n",
        "import tensorflow as tf\n",
        "import matplotlib.pyplot as plt\n",
        "\n",
        "def predict_face_from_dataset(index):\n",
        "    img = x_test[index]\n",
        "\n",
        "    img_expanded = np.expand_dims(img, axis=0)\n",
        "\n",
        "    prediction = model.predict(img_expanded)\n",
        "    predicted_class = np.argmax(prediction)\n",
        "    predicted_name = target_names[predicted_class]\n",
        "\n",
        "    plt.imshow(img.squeeze(), cmap=\"gray\")\n",
        "    plt.title(f\"Predicted: {predicted_name}\")\n",
        "    plt.axis(\"off\")\n",
        "    plt.show()\n",
        "\n",
        "predict_face_from_dataset(7)"
      ],
      "metadata": {
        "colab": {
          "base_uri": "https://localhost:8080/",
          "height": 445
        },
        "id": "8GxFoVmZMt_h",
        "outputId": "8f0e75da-2249-41f8-d173-08147912df20"
      },
      "execution_count": null,
      "outputs": [
        {
          "output_type": "stream",
          "name": "stdout",
          "text": [
            "\u001b[1m1/1\u001b[0m \u001b[32m━━━━━━━━━━━━━━━━━━━━\u001b[0m\u001b[37m\u001b[0m \u001b[1m0s\u001b[0m 40ms/step\n"
          ]
        },
        {
          "output_type": "display_data",
          "data": {
            "text/plain": [
              "<Figure size 640x480 with 1 Axes>"
            ],
            "image/png": "[encoded data removed]"
          },
          "metadata": {}
        }
      ]
    }
  ]
}