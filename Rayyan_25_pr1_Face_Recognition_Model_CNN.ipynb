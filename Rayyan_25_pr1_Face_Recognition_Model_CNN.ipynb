{
  "nbformat": 4,
  "nbformat_minor": 0,
  "metadata": {
    "colab": {
      "provenance": []
    },
    "kernelspec": {
      "name": "python3",
      "display_name": "Python 3"
    },
    "language_info": {
      "name": "python"
    }
  },
  "cells": [
    {
      "cell_type": "code",
      "source": [
        "from sklearn.datasets import fetch_lfw_people\n",
        "import numpy as np"
      ],
      "metadata": {
        "id": "M8Vxk194zKc8"
      },
      "execution_count": 33,
      "outputs": []
    },
    {
      "cell_type": "code",
      "execution_count": 34,
      "metadata": {
        "colab": {
          "base_uri": "https://localhost:8080/"
        },
        "id": "9fKHBmjGYt6G",
        "outputId": "55ef595f-5b31-4fc0-ab90-5432a521234f"
      },
      "outputs": [
        {
          "output_type": "stream",
          "name": "stdout",
          "text": [
            "{'data': array([[0.9973857 , 0.99607843, 0.9921568 , ..., 0.38169935, 0.38823533,\n",
            "        0.3803922 ],\n",
            "       [0.14771242, 0.19738562, 0.1751634 , ..., 0.45751634, 0.44444445,\n",
            "        0.53594774],\n",
            "       [0.34379086, 0.39477125, 0.49150327, ..., 0.709804  , 0.72156864,\n",
            "        0.7163399 ],\n",
            "       ...,\n",
            "       [0.3633987 , 0.3372549 , 0.30718955, ..., 0.19738562, 0.22091503,\n",
            "        0.19346406],\n",
            "       [0.19346406, 0.24705882, 0.34248367, ..., 0.7346406 , 0.6640523 ,\n",
            "        0.6117647 ],\n",
            "       [0.11633987, 0.10196079, 0.1267974 , ..., 0.13333334, 0.13725491,\n",
            "        0.2535948 ]], dtype=float32), 'images': array([[[0.9973857 , 0.99607843, 0.9921568 , ..., 0.29803923,\n",
            "         0.24836601, 0.20653595],\n",
            "        [0.9973857 , 0.9921569 , 0.9908497 , ..., 0.30588236,\n",
            "         0.2535948 , 0.21568628],\n",
            "        [0.96078426, 0.93071896, 0.8679738 , ..., 0.2875817 ,\n",
            "         0.24183007, 0.21568628],\n",
            "        ...,\n",
            "        [0.34509805, 0.26143792, 0.17385621, ..., 0.4248366 ,\n",
            "         0.40261438, 0.39084968],\n",
            "        [0.30980393, 0.23398693, 0.17124183, ..., 0.39869282,\n",
            "         0.4013072 , 0.3764706 ],\n",
            "        [0.28366014, 0.2248366 , 0.18039216, ..., 0.38169935,\n",
            "         0.38823533, 0.3803922 ]],\n",
            "\n",
            "       [[0.14771242, 0.19738562, 0.1751634 , ..., 0.24183007,\n",
            "         0.2       , 0.14509805],\n",
            "        [0.18039216, 0.24836601, 0.24575163, ..., 0.21437909,\n",
            "         0.21960784, 0.1751634 ],\n",
            "        [0.21045752, 0.303268  , 0.33594772, ..., 0.2653595 ,\n",
            "         0.18431373, 0.16993465],\n",
            "        ...,\n",
            "        [0.2875817 , 0.29803923, 0.29673204, ..., 0.503268  ,\n",
            "         0.46797386, 0.4535948 ],\n",
            "        [0.29411766, 0.29803923, 0.303268  , ..., 0.4928105 ,\n",
            "         0.4496732 , 0.45359477],\n",
            "        [0.30457518, 0.29673204, 0.29673204, ..., 0.45751634,\n",
            "         0.44444445, 0.53594774]],\n",
            "\n",
            "       [[0.34379086, 0.39477125, 0.49150327, ..., 0.5803922 ,\n",
            "         0.58954257, 0.58300656],\n",
            "        [0.38169935, 0.5071896 , 0.57124186, ..., 0.6261439 ,\n",
            "         0.5908497 , 0.5751634 ],\n",
            "        [0.48366013, 0.5686275 , 0.579085  , ..., 0.64183015,\n",
            "         0.59738564, 0.5751634 ],\n",
            "        ...,\n",
            "        [0.29673204, 0.2875817 , 0.28496733, ..., 0.46013072,\n",
            "         0.6732027 , 0.70326805],\n",
            "        [0.28627452, 0.26666668, 0.27058825, ..., 0.5908497 ,\n",
            "         0.7267974 , 0.7098039 ],\n",
            "        [0.3150327 , 0.25490198, 0.26013073, ..., 0.709804  ,\n",
            "         0.72156864, 0.7163399 ]],\n",
            "\n",
            "       ...,\n",
            "\n",
            "       [[0.3633987 , 0.3372549 , 0.30718955, ..., 0.1633987 ,\n",
            "         0.1633987 , 0.18562092],\n",
            "        [0.35947713, 0.3124183 , 0.32026145, ..., 0.16993465,\n",
            "         0.16209151, 0.17124183],\n",
            "        [0.30457518, 0.26666668, 0.38039216, ..., 0.18562092,\n",
            "         0.17254902, 0.16993465],\n",
            "        ...,\n",
            "        [0.38169935, 0.36601308, 0.35947713, ..., 0.2901961 ,\n",
            "         0.34509805, 0.4       ],\n",
            "        [0.36078432, 0.35816994, 0.37254903, ..., 0.20261438,\n",
            "         0.25490198, 0.27450982],\n",
            "        [0.32156864, 0.3281046 , 0.34117648, ..., 0.19738562,\n",
            "         0.22091503, 0.19346406]],\n",
            "\n",
            "       [[0.19346406, 0.24705882, 0.34248367, ..., 0.5882353 ,\n",
            "         0.5947712 , 0.5647059 ],\n",
            "        [0.22875817, 0.32287583, 0.39084968, ..., 0.58300656,\n",
            "         0.56078434, 0.55947715],\n",
            "        [0.23006536, 0.351634  , 0.37124184, ..., 0.5882353 ,\n",
            "         0.53464055, 0.53464055],\n",
            "        ...,\n",
            "        [0.23660131, 0.23921569, 0.24313726, ..., 0.5542484 ,\n",
            "         0.63137263, 0.6104575 ],\n",
            "        [0.24052288, 0.24183007, 0.24575163, ..., 0.71111107,\n",
            "         0.6535948 , 0.6169935 ],\n",
            "        [0.24183007, 0.24052288, 0.24444444, ..., 0.7346406 ,\n",
            "         0.6640523 , 0.6117647 ]],\n",
            "\n",
            "       [[0.11633987, 0.10196079, 0.1267974 , ..., 0.34248367,\n",
            "         0.20130719, 0.17908497],\n",
            "        [0.12156863, 0.12418301, 0.14379086, ..., 0.41045752,\n",
            "         0.20522876, 0.15816994],\n",
            "        [0.13071896, 0.13202615, 0.14901961, ..., 0.4888889 ,\n",
            "         0.26928106, 0.19477125],\n",
            "        ...,\n",
            "        [0.18169935, 0.17254902, 0.17254902, ..., 0.09281046,\n",
            "         0.07058824, 0.13986929],\n",
            "        [0.16470589, 0.1633987 , 0.1764706 , ..., 0.0875817 ,\n",
            "         0.10326798, 0.1764706 ],\n",
            "        [0.17908497, 0.19477125, 0.20392157, ..., 0.13333334,\n",
            "         0.13725491, 0.2535948 ]]], dtype=float32), 'target': array([5, 6, 3, ..., 5, 3, 5]), 'target_names': array(['Ariel Sharon', 'Colin Powell', 'Donald Rumsfeld', 'George W Bush',\n",
            "       'Gerhard Schroeder', 'Hugo Chavez', 'Tony Blair'], dtype='<U17'), 'DESCR': \".. _labeled_faces_in_the_wild_dataset:\\n\\nThe Labeled Faces in the Wild face recognition dataset\\n------------------------------------------------------\\n\\nThis dataset is a collection of JPEG pictures of famous people collected\\nover the internet, all details are available on the official website:\\n\\nhttp://vis-www.cs.umass.edu/lfw/\\n\\nEach picture is centered on a single face. The typical task is called\\nFace Verification: given a pair of two pictures, a binary classifier\\nmust predict whether the two images are from the same person.\\n\\nAn alternative task, Face Recognition or Face Identification is:\\ngiven the picture of the face of an unknown person, identify the name\\nof the person by referring to a gallery of previously seen pictures of\\nidentified persons.\\n\\nBoth Face Verification and Face Recognition are tasks that are typically\\nperformed on the output of a model trained to perform Face Detection. The\\nmost popular model for Face Detection is called Viola-Jones and is\\nimplemented in the OpenCV library. The LFW faces were extracted by this\\nface detector from various online websites.\\n\\n**Data Set Characteristics:**\\n\\n=================   =======================\\nClasses                                5749\\nSamples total                         13233\\nDimensionality                         5828\\nFeatures            real, between 0 and 255\\n=================   =======================\\n\\n.. dropdown:: Usage\\n\\n  ``scikit-learn`` provides two loaders that will automatically download,\\n  cache, parse the metadata files, decode the jpeg and convert the\\n  interesting slices into memmapped numpy arrays. This dataset size is more\\n  than 200 MB. The first load typically takes more than a couple of minutes\\n  to fully decode the relevant part of the JPEG files into numpy arrays. If\\n  the dataset has  been loaded once, the following times the loading times\\n  less than 200ms by using a memmapped version memoized on the disk in the\\n  ``~/scikit_learn_data/lfw_home/`` folder using ``joblib``.\\n\\n  The first loader is used for the Face Identification task: a multi-class\\n  classification task (hence supervised learning)::\\n\\n    >>> from sklearn.datasets import fetch_lfw_people\\n    >>> lfw_people = fetch_lfw_people(min_faces_per_person=70, resize=0.4)\\n\\n    >>> for name in lfw_people.target_names:\\n    ...     print(name)\\n    ...\\n    Ariel Sharon\\n    Colin Powell\\n    Donald Rumsfeld\\n    George W Bush\\n    Gerhard Schroeder\\n    Hugo Chavez\\n    Tony Blair\\n\\n  The default slice is a rectangular shape around the face, removing\\n  most of the background::\\n\\n    >>> lfw_people.data.dtype\\n    dtype('float32')\\n\\n    >>> lfw_people.data.shape\\n    (1288, 1850)\\n\\n    >>> lfw_people.images.shape\\n    (1288, 50, 37)\\n\\n  Each of the ``1140`` faces is assigned to a single person id in the ``target``\\n  array::\\n\\n    >>> lfw_people.target.shape\\n    (1288,)\\n\\n    >>> list(lfw_people.target[:10])\\n    [5, 6, 3, 1, 0, 1, 3, 4, 3, 0]\\n\\n  The second loader is typically used for the face verification task: each sample\\n  is a pair of two picture belonging or not to the same person::\\n\\n    >>> from sklearn.datasets import fetch_lfw_pairs\\n    >>> lfw_pairs_train = fetch_lfw_pairs(subset='train')\\n\\n    >>> list(lfw_pairs_train.target_names)\\n    ['Different persons', 'Same person']\\n\\n    >>> lfw_pairs_train.pairs.shape\\n    (2200, 2, 62, 47)\\n\\n    >>> lfw_pairs_train.data.shape\\n    (2200, 5828)\\n\\n    >>> lfw_pairs_train.target.shape\\n    (2200,)\\n\\n  Both for the :func:`sklearn.datasets.fetch_lfw_people` and\\n  :func:`sklearn.datasets.fetch_lfw_pairs` function it is\\n  possible to get an additional dimension with the RGB color channels by\\n  passing ``color=True``, in that case the shape will be\\n  ``(2200, 2, 62, 47, 3)``.\\n\\n  The :func:`sklearn.datasets.fetch_lfw_pairs` datasets is subdivided into\\n  3 subsets: the development ``train`` set, the development ``test`` set and\\n  an evaluation ``10_folds`` set meant to compute performance metrics using a\\n  10-folds cross validation scheme.\\n\\n.. rubric:: References\\n\\n* `Labeled Faces in the Wild: A Database for Studying Face Recognition\\n  in Unconstrained Environments.\\n  <http://vis-www.cs.umass.edu/lfw/lfw.pdf>`_\\n  Gary B. Huang, Manu Ramesh, Tamara Berg, and Erik Learned-Miller.\\n  University of Massachusetts, Amherst, Technical Report 07-49, October, 2007.\\n\\n\\n.. rubric:: Examples\\n\\n* :ref:`sphx_glr_auto_examples_applications_plot_face_recognition.py`\\n\"}\n"
          ]
        }
      ],
      "source": [
        "lfw_people = fetch_lfw_people(min_faces_per_person=70, resize=0.4)\n",
        "print(lfw_people)"
      ]
    },
    {
      "cell_type": "code",
      "source": [
        "x, y = lfw_people.images, lfw_people.target\n",
        "target_names = lfw_people.target_names  # Names of people\n",
        "\n",
        "print(f\"Dataset shape: {x.shape}, Labels shape: {y.shape}\")"
      ],
      "metadata": {
        "colab": {
          "base_uri": "https://localhost:8080/"
        },
        "id": "GNedxRbS8NSc",
        "outputId": "8c2a6c18-dbd9-4f61-dc4e-56a404443bb0"
      },
      "execution_count": 35,
      "outputs": [
        {
          "output_type": "stream",
          "name": "stdout",
          "text": [
            "Dataset shape: (1288, 50, 37), Labels shape: (1288,)\n"
          ]
        }
      ]
    },
    {
      "cell_type": "code",
      "source": [
        "x"
      ],
      "metadata": {
        "colab": {
          "base_uri": "https://localhost:8080/"
        },
        "id": "iu129Dmq-zYJ",
        "outputId": "aac2e853-b88e-4526-f4b1-baf59d8977ef"
      },
      "execution_count": 36,
      "outputs": [
        {
          "output_type": "execute_result",
          "data": {
            "text/plain": [
              "array([[[0.9973857 , 0.99607843, 0.9921568 , ..., 0.29803923,\n",
              "         0.24836601, 0.20653595],\n",
              "        [0.9973857 , 0.9921569 , 0.9908497 , ..., 0.30588236,\n",
              "         0.2535948 , 0.21568628],\n",
              "        [0.96078426, 0.93071896, 0.8679738 , ..., 0.2875817 ,\n",
              "         0.24183007, 0.21568628],\n",
              "        ...,\n",
              "        [0.34509805, 0.26143792, 0.17385621, ..., 0.4248366 ,\n",
              "         0.40261438, 0.39084968],\n",
              "        [0.30980393, 0.23398693, 0.17124183, ..., 0.39869282,\n",
              "         0.4013072 , 0.3764706 ],\n",
              "        [0.28366014, 0.2248366 , 0.18039216, ..., 0.38169935,\n",
              "         0.38823533, 0.3803922 ]],\n",
              "\n",
              "       [[0.14771242, 0.19738562, 0.1751634 , ..., 0.24183007,\n",
              "         0.2       , 0.14509805],\n",
              "        [0.18039216, 0.24836601, 0.24575163, ..., 0.21437909,\n",
              "         0.21960784, 0.1751634 ],\n",
              "        [0.21045752, 0.303268  , 0.33594772, ..., 0.2653595 ,\n",
              "         0.18431373, 0.16993465],\n",
              "        ...,\n",
              "        [0.2875817 , 0.29803923, 0.29673204, ..., 0.503268  ,\n",
              "         0.46797386, 0.4535948 ],\n",
              "        [0.29411766, 0.29803923, 0.303268  , ..., 0.4928105 ,\n",
              "         0.4496732 , 0.45359477],\n",
              "        [0.30457518, 0.29673204, 0.29673204, ..., 0.45751634,\n",
              "         0.44444445, 0.53594774]],\n",
              "\n",
              "       [[0.34379086, 0.39477125, 0.49150327, ..., 0.5803922 ,\n",
              "         0.58954257, 0.58300656],\n",
              "        [0.38169935, 0.5071896 , 0.57124186, ..., 0.6261439 ,\n",
              "         0.5908497 , 0.5751634 ],\n",
              "        [0.48366013, 0.5686275 , 0.579085  , ..., 0.64183015,\n",
              "         0.59738564, 0.5751634 ],\n",
              "        ...,\n",
              "        [0.29673204, 0.2875817 , 0.28496733, ..., 0.46013072,\n",
              "         0.6732027 , 0.70326805],\n",
              "        [0.28627452, 0.26666668, 0.27058825, ..., 0.5908497 ,\n",
              "         0.7267974 , 0.7098039 ],\n",
              "        [0.3150327 , 0.25490198, 0.26013073, ..., 0.709804  ,\n",
              "         0.72156864, 0.7163399 ]],\n",
              "\n",
              "       ...,\n",
              "\n",
              "       [[0.3633987 , 0.3372549 , 0.30718955, ..., 0.1633987 ,\n",
              "         0.1633987 , 0.18562092],\n",
              "        [0.35947713, 0.3124183 , 0.32026145, ..., 0.16993465,\n",
              "         0.16209151, 0.17124183],\n",
              "        [0.30457518, 0.26666668, 0.38039216, ..., 0.18562092,\n",
              "         0.17254902, 0.16993465],\n",
              "        ...,\n",
              "        [0.38169935, 0.36601308, 0.35947713, ..., 0.2901961 ,\n",
              "         0.34509805, 0.4       ],\n",
              "        [0.36078432, 0.35816994, 0.37254903, ..., 0.20261438,\n",
              "         0.25490198, 0.27450982],\n",
              "        [0.32156864, 0.3281046 , 0.34117648, ..., 0.19738562,\n",
              "         0.22091503, 0.19346406]],\n",
              "\n",
              "       [[0.19346406, 0.24705882, 0.34248367, ..., 0.5882353 ,\n",
              "         0.5947712 , 0.5647059 ],\n",
              "        [0.22875817, 0.32287583, 0.39084968, ..., 0.58300656,\n",
              "         0.56078434, 0.55947715],\n",
              "        [0.23006536, 0.351634  , 0.37124184, ..., 0.5882353 ,\n",
              "         0.53464055, 0.53464055],\n",
              "        ...,\n",
              "        [0.23660131, 0.23921569, 0.24313726, ..., 0.5542484 ,\n",
              "         0.63137263, 0.6104575 ],\n",
              "        [0.24052288, 0.24183007, 0.24575163, ..., 0.71111107,\n",
              "         0.6535948 , 0.6169935 ],\n",
              "        [0.24183007, 0.24052288, 0.24444444, ..., 0.7346406 ,\n",
              "         0.6640523 , 0.6117647 ]],\n",
              "\n",
              "       [[0.11633987, 0.10196079, 0.1267974 , ..., 0.34248367,\n",
              "         0.20130719, 0.17908497],\n",
              "        [0.12156863, 0.12418301, 0.14379086, ..., 0.41045752,\n",
              "         0.20522876, 0.15816994],\n",
              "        [0.13071896, 0.13202615, 0.14901961, ..., 0.4888889 ,\n",
              "         0.26928106, 0.19477125],\n",
              "        ...,\n",
              "        [0.18169935, 0.17254902, 0.17254902, ..., 0.09281046,\n",
              "         0.07058824, 0.13986929],\n",
              "        [0.16470589, 0.1633987 , 0.1764706 , ..., 0.0875817 ,\n",
              "         0.10326798, 0.1764706 ],\n",
              "        [0.17908497, 0.19477125, 0.20392157, ..., 0.13333334,\n",
              "         0.13725491, 0.2535948 ]]], dtype=float32)"
            ]
          },
          "metadata": {},
          "execution_count": 36
        }
      ]
    },
    {
      "cell_type": "code",
      "source": [
        "y"
      ],
      "metadata": {
        "colab": {
          "base_uri": "https://localhost:8080/"
        },
        "id": "9MCMKy_H_Sjz",
        "outputId": "9a387f59-4681-482a-9baf-1bfb697ae220"
      },
      "execution_count": 37,
      "outputs": [
        {
          "output_type": "execute_result",
          "data": {
            "text/plain": [
              "array([5, 6, 3, ..., 5, 3, 5])"
            ]
          },
          "metadata": {},
          "execution_count": 37
        }
      ]
    },
    {
      "cell_type": "code",
      "source": [
        "target_names"
      ],
      "metadata": {
        "colab": {
          "base_uri": "https://localhost:8080/"
        },
        "id": "LFCUVCAv_Th0",
        "outputId": "25c0fa6c-3d7e-4718-baae-2598ceacdf2b"
      },
      "execution_count": 38,
      "outputs": [
        {
          "output_type": "execute_result",
          "data": {
            "text/plain": [
              "array(['Ariel Sharon', 'Colin Powell', 'Donald Rumsfeld', 'George W Bush',\n",
              "       'Gerhard Schroeder', 'Hugo Chavez', 'Tony Blair'], dtype='<U17')"
            ]
          },
          "metadata": {},
          "execution_count": 38
        }
      ]
    },
    {
      "cell_type": "code",
      "source": [
        "print(y[1])  # Example label\n",
        "print(target_names[y[1]])  # Corresponding person's name\n"
      ],
      "metadata": {
        "colab": {
          "base_uri": "https://localhost:8080/"
        },
        "id": "mgBmzZhA8cR4",
        "outputId": "a85425f4-c4ba-474c-806c-7447c47dc539"
      },
      "execution_count": 49,
      "outputs": [
        {
          "output_type": "stream",
          "name": "stdout",
          "text": [
            "6\n",
            "Tony Blair\n"
          ]
        }
      ]
    },
    {
      "cell_type": "code",
      "source": [
        "print(f\"Min pixel value: {x.min()}, Max pixel value: {x.max()}\")"
      ],
      "metadata": {
        "colab": {
          "base_uri": "https://localhost:8080/"
        },
        "id": "kgpEZERPDmc7",
        "outputId": "27a2d00d-fd1e-47c3-dbc5-26e8cf7cbda6"
      },
      "execution_count": 41,
      "outputs": [
        {
          "output_type": "stream",
          "name": "stdout",
          "text": [
            "Min pixel value: 0.0, Max pixel value: 1.0\n"
          ]
        }
      ]
    },
    {
      "cell_type": "code",
      "source": [
        "from tensorflow.keras.utils import to_categorical\n",
        "from sklearn.model_selection import train_test_split\n",
        "\n",
        "# Reshape images to (50, 37, 1) for CNN (Adding channel dimension)\n",
        "x = x.reshape(x.shape[0], x.shape[1], x.shape[2], 1)\n"
      ],
      "metadata": {
        "id": "LA3DvwsUAB-V"
      },
      "execution_count": 42,
      "outputs": []
    },
    {
      "cell_type": "code",
      "source": [
        "# One-hot encode the labels\n",
        "y_categorical = to_categorical(y)\n",
        "y_categorical"
      ],
      "metadata": {
        "colab": {
          "base_uri": "https://localhost:8080/"
        },
        "id": "-GPQN6qoH3eC",
        "outputId": "5a4b2ae7-6106-4550-a427-a0a02e8c67e8"
      },
      "execution_count": 48,
      "outputs": [
        {
          "output_type": "execute_result",
          "data": {
            "text/plain": [
              "array([[0., 0., 0., ..., 0., 1., 0.],\n",
              "       [0., 0., 0., ..., 0., 0., 1.],\n",
              "       [0., 0., 0., ..., 0., 0., 0.],\n",
              "       ...,\n",
              "       [0., 0., 0., ..., 0., 1., 0.],\n",
              "       [0., 0., 0., ..., 0., 0., 0.],\n",
              "       [0., 0., 0., ..., 0., 1., 0.]])"
            ]
          },
          "metadata": {},
          "execution_count": 48
        }
      ]
    },
    {
      "cell_type": "code",
      "source": [
        "# Split into training and testing sets (80% train, 20% test)\n",
        "x_train, x_test, y_train, y_test = train_test_split(x, y_categorical, test_size=0.2, random_state=42)\n",
        "\n",
        "print(f\"Training data: {x_train.shape}, Test data: {x_test.shape}\")"
      ],
      "metadata": {
        "colab": {
          "base_uri": "https://localhost:8080/"
        },
        "id": "7njXZwtXJFbh",
        "outputId": "fb67fbb7-a26b-4276-a43a-3fa2e45b70cf"
      },
      "execution_count": 50,
      "outputs": [
        {
          "output_type": "stream",
          "name": "stdout",
          "text": [
            "Training data: (1030, 50, 37, 1), Test data: (258, 50, 37, 1)\n"
          ]
        }
      ]
    },
    {
      "cell_type": "code",
      "source": [
        "x_train\n",
        "#x_test\n",
        "#y_train\n",
        "#y_test"
      ],
      "metadata": {
        "colab": {
          "base_uri": "https://localhost:8080/"
        },
        "id": "eaeV666QQhMy",
        "outputId": "bea15b44-86bb-4755-930e-5712dce05046"
      },
      "execution_count": 63,
      "outputs": [
        {
          "output_type": "execute_result",
          "data": {
            "text/plain": [
              "array([[[[0.2784314 ],\n",
              "         [0.31895426],\n",
              "         [0.17777778],\n",
              "         ...,\n",
              "         [0.23006536],\n",
              "         [0.19477125],\n",
              "         [0.10457516]],\n",
              "\n",
              "        [[0.275817  ],\n",
              "         [0.29542485],\n",
              "         [0.18169935],\n",
              "         ...,\n",
              "         [0.21699347],\n",
              "         [0.2       ],\n",
              "         [0.17385621]],\n",
              "\n",
              "        [[0.3281046 ],\n",
              "         [0.31764707],\n",
              "         [0.2522876 ],\n",
              "         ...,\n",
              "         [0.23398693],\n",
              "         [0.19869281],\n",
              "         [0.19738562]],\n",
              "\n",
              "        ...,\n",
              "\n",
              "        [[0.24705882],\n",
              "         [0.24183007],\n",
              "         [0.2522876 ],\n",
              "         ...,\n",
              "         [0.69934636],\n",
              "         [0.7986929 ],\n",
              "         [0.5882353 ]],\n",
              "\n",
              "        [[0.2509804 ],\n",
              "         [0.25490198],\n",
              "         [0.26143792],\n",
              "         ...,\n",
              "         [0.7843137 ],\n",
              "         [0.6993465 ],\n",
              "         [0.18954249]],\n",
              "\n",
              "        [[0.24313726],\n",
              "         [0.24052288],\n",
              "         [0.23921569],\n",
              "         ...,\n",
              "         [0.76862746],\n",
              "         [0.27320263],\n",
              "         [0.00130719]]],\n",
              "\n",
              "\n",
              "       [[[0.84313726],\n",
              "         [0.8392157 ],\n",
              "         [0.8522876 ],\n",
              "         ...,\n",
              "         [0.67058825],\n",
              "         [0.654902  ],\n",
              "         [0.6392157 ]],\n",
              "\n",
              "        [[0.84313726],\n",
              "         [0.8496732 ],\n",
              "         [0.85098034],\n",
              "         ...,\n",
              "         [0.66274506],\n",
              "         [0.66013074],\n",
              "         [0.6431373 ]],\n",
              "\n",
              "        [[0.84313726],\n",
              "         [0.84313726],\n",
              "         [0.8392157 ],\n",
              "         ...,\n",
              "         [0.68235296],\n",
              "         [0.6653595 ],\n",
              "         [0.654902  ]],\n",
              "\n",
              "        ...,\n",
              "\n",
              "        [[0.15424837],\n",
              "         [0.12418302],\n",
              "         [0.10718954],\n",
              "         ...,\n",
              "         [0.551634  ],\n",
              "         [0.53333336],\n",
              "         [0.49542484]],\n",
              "\n",
              "        [[0.21830066],\n",
              "         [0.16470589],\n",
              "         [0.12941177],\n",
              "         ...,\n",
              "         [0.5542484 ],\n",
              "         [0.5424837 ],\n",
              "         [0.49281046]],\n",
              "\n",
              "        [[0.43398693],\n",
              "         [0.35424837],\n",
              "         [0.2888889 ],\n",
              "         ...,\n",
              "         [0.5751634 ],\n",
              "         [0.5346405 ],\n",
              "         [0.4888889 ]]],\n",
              "\n",
              "\n",
              "       [[[0.42352942],\n",
              "         [0.4666667 ],\n",
              "         [0.475817  ],\n",
              "         ...,\n",
              "         [0.9372549 ],\n",
              "         [0.9816993 ],\n",
              "         [0.9816993 ]],\n",
              "\n",
              "        [[0.47450984],\n",
              "         [0.4993464 ],\n",
              "         [0.4627451 ],\n",
              "         ...,\n",
              "         [0.7294118 ],\n",
              "         [0.8784313 ],\n",
              "         [0.97908497]],\n",
              "\n",
              "        [[0.48496735],\n",
              "         [0.52026147],\n",
              "         [0.47320262],\n",
              "         ...,\n",
              "         [0.45882356],\n",
              "         [0.59999996],\n",
              "         [0.84705883]],\n",
              "\n",
              "        ...,\n",
              "\n",
              "        [[0.4509804 ],\n",
              "         [0.29150328],\n",
              "         [0.25620916],\n",
              "         ...,\n",
              "         [0.9816994 ],\n",
              "         [0.9856209 ],\n",
              "         [0.9777778 ]],\n",
              "\n",
              "        [[0.4535948 ],\n",
              "         [0.3137255 ],\n",
              "         [0.2901961 ],\n",
              "         ...,\n",
              "         [0.98039216],\n",
              "         [0.99477124],\n",
              "         [0.98692816]],\n",
              "\n",
              "        [[0.44444445],\n",
              "         [0.29803923],\n",
              "         [0.34117648],\n",
              "         ...,\n",
              "         [0.9777778 ],\n",
              "         [0.9882353 ],\n",
              "         [0.98039216]]],\n",
              "\n",
              "\n",
              "       ...,\n",
              "\n",
              "\n",
              "       [[[0.48496735],\n",
              "         [0.45228758],\n",
              "         [0.45620918],\n",
              "         ...,\n",
              "         [0.3764706 ],\n",
              "         [0.3751634 ],\n",
              "         [0.3398693 ]],\n",
              "\n",
              "        [[0.47058824],\n",
              "         [0.4392157 ],\n",
              "         [0.4666667 ],\n",
              "         ...,\n",
              "         [0.39215687],\n",
              "         [0.35816994],\n",
              "         [0.3385621 ]],\n",
              "\n",
              "        [[0.44836602],\n",
              "         [0.44444445],\n",
              "         [0.4366013 ],\n",
              "         ...,\n",
              "         [0.40915033],\n",
              "         [0.3398693 ],\n",
              "         [0.2888889 ]],\n",
              "\n",
              "        ...,\n",
              "\n",
              "        [[0.06928105],\n",
              "         [0.07189543],\n",
              "         [0.08366013],\n",
              "         ...,\n",
              "         [0.3633987 ],\n",
              "         [0.37385622],\n",
              "         [0.4261438 ]],\n",
              "\n",
              "        [[0.075817  ],\n",
              "         [0.07843138],\n",
              "         [0.08496732],\n",
              "         ...,\n",
              "         [0.3620915 ],\n",
              "         [0.38039216],\n",
              "         [0.46143794]],\n",
              "\n",
              "        [[0.08235294],\n",
              "         [0.08888889],\n",
              "         [0.09019608],\n",
              "         ...,\n",
              "         [0.39869285],\n",
              "         [0.39084968],\n",
              "         [0.52679735]]],\n",
              "\n",
              "\n",
              "       [[[0.43398693],\n",
              "         [0.44575164],\n",
              "         [0.6052287 ],\n",
              "         ...,\n",
              "         [0.7424836 ],\n",
              "         [0.7372549 ],\n",
              "         [0.72287583]],\n",
              "\n",
              "        [[0.45620915],\n",
              "         [0.44575164],\n",
              "         [0.66928107],\n",
              "         ...,\n",
              "         [0.6941176 ],\n",
              "         [0.67843145],\n",
              "         [0.66928107]],\n",
              "\n",
              "        [[0.44444445],\n",
              "         [0.47320262],\n",
              "         [0.72287583],\n",
              "         ...,\n",
              "         [0.6614379 ],\n",
              "         [0.64705884],\n",
              "         [0.68888897]],\n",
              "\n",
              "        ...,\n",
              "\n",
              "        [[0.27450982],\n",
              "         [0.34248367],\n",
              "         [0.43137255],\n",
              "         ...,\n",
              "         [0.2248366 ],\n",
              "         [0.2130719 ],\n",
              "         [0.1882353 ]],\n",
              "\n",
              "        [[0.28496733],\n",
              "         [0.34771243],\n",
              "         [0.44183007],\n",
              "         ...,\n",
              "         [0.23006536],\n",
              "         [0.19346406],\n",
              "         [0.20130719]],\n",
              "\n",
              "        [[0.2888889 ],\n",
              "         [0.35947713],\n",
              "         [0.44836602],\n",
              "         ...,\n",
              "         [0.20653595],\n",
              "         [0.19215687],\n",
              "         [0.22222222]]],\n",
              "\n",
              "\n",
              "       [[[0.04444445],\n",
              "         [0.05490196],\n",
              "         [0.06143792],\n",
              "         ...,\n",
              "         [0.67843133],\n",
              "         [0.6509804 ],\n",
              "         [0.6915033 ]],\n",
              "\n",
              "        [[0.04313726],\n",
              "         [0.05228758],\n",
              "         [0.04183007],\n",
              "         ...,\n",
              "         [0.74771243],\n",
              "         [0.7124183 ],\n",
              "         [0.7529412 ]],\n",
              "\n",
              "        [[0.04313726],\n",
              "         [0.04705882],\n",
              "         [0.03267974],\n",
              "         ...,\n",
              "         [0.79607844],\n",
              "         [0.76732033],\n",
              "         [0.8104575 ]],\n",
              "\n",
              "        ...,\n",
              "\n",
              "        [[0.15294118],\n",
              "         [0.1503268 ],\n",
              "         [0.16078432],\n",
              "         ...,\n",
              "         [0.60784316],\n",
              "         [0.6496732 ],\n",
              "         [0.7111111 ]],\n",
              "\n",
              "        [[0.15294118],\n",
              "         [0.19215687],\n",
              "         [0.2653595 ],\n",
              "         ...,\n",
              "         [0.62352943],\n",
              "         [0.6732027 ],\n",
              "         [0.75816995]],\n",
              "\n",
              "        [[0.29150328],\n",
              "         [0.3895425 ],\n",
              "         [0.42745098],\n",
              "         ...,\n",
              "         [0.64836603],\n",
              "         [0.71503264],\n",
              "         [0.83267975]]]], dtype=float32)"
            ]
          },
          "metadata": {},
          "execution_count": 63
        }
      ]
    },
    {
      "cell_type": "code",
      "source": [
        "import tensorflow as tf\n",
        "from tensorflow.keras.models import Sequential\n",
        "from tensorflow.keras.layers import Conv2D, MaxPooling2D, Flatten, Dense, Dropout\n",
        "\n",
        "# Define CNN model\n",
        "model = Sequential([\n",
        "    Conv2D(32, (3,3), activation='relu', input_shape=(50, 37, 1)),\n",
        "    MaxPooling2D(2,2),\n",
        "\n",
        "    Conv2D(64, (3,3), activation='relu'),\n",
        "    MaxPooling2D(2,2),\n",
        "\n",
        "    Flatten(),\n",
        "    Dense(128, activation='relu'),\n",
        "    Dropout(0.5),\n",
        "    Dense(len(target_names), activation='softmax')  # Output layer\n",
        "])\n",
        "\n",
        "# Compile the model\n",
        "model.compile(optimizer='adam', loss='categorical_crossentropy', metrics=['accuracy'])\n",
        "\n",
        "# Model summary\n",
        "model.summary()\n"
      ],
      "metadata": {
        "colab": {
          "base_uri": "https://localhost:8080/",
          "height": 408
        },
        "id": "M88W-K7VIzMl",
        "outputId": "81ce3f8d-a203-4590-98af-703e92eed511"
      },
      "execution_count": 52,
      "outputs": [
        {
          "output_type": "display_data",
          "data": {
            "text/plain": [
              "\u001b[1mModel: \"sequential_2\"\u001b[0m\n"
            ],
            "text/html": [
              "<pre style=\"white-space:pre;overflow-x:auto;line-height:normal;font-family:Menlo,'DejaVu Sans Mono',consolas,'Courier New',monospace\"><span style=\"font-weight: bold\">Model: \"sequential_2\"</span>\n",
              "</pre>\n"
            ]
          },
          "metadata": {}
        },
        {
          "output_type": "display_data",
          "data": {
            "text/plain": [
              "┏━━━━━━━━━━━━━━━━━━━━━━━━━━━━━━━━━━━━━━┳━━━━━━━━━━━━━━━━━━━━━━━━━━━━━┳━━━━━━━━━━━━━━━━━┓\n",
              "┃\u001b[1m \u001b[0m\u001b[1mLayer (type)                        \u001b[0m\u001b[1m \u001b[0m┃\u001b[1m \u001b[0m\u001b[1mOutput Shape               \u001b[0m\u001b[1m \u001b[0m┃\u001b[1m \u001b[0m\u001b[1m        Param #\u001b[0m\u001b[1m \u001b[0m┃\n",
              "┡━━━━━━━━━━━━━━━━━━━━━━━━━━━━━━━━━━━━━━╇━━━━━━━━━━━━━━━━━━━━━━━━━━━━━╇━━━━━━━━━━━━━━━━━┩\n",
              "│ conv2d_4 (\u001b[38;5;33mConv2D\u001b[0m)                    │ (\u001b[38;5;45mNone\u001b[0m, \u001b[38;5;34m48\u001b[0m, \u001b[38;5;34m35\u001b[0m, \u001b[38;5;34m32\u001b[0m)          │             \u001b[38;5;34m320\u001b[0m │\n",
              "├──────────────────────────────────────┼─────────────────────────────┼─────────────────┤\n",
              "│ max_pooling2d_4 (\u001b[38;5;33mMaxPooling2D\u001b[0m)       │ (\u001b[38;5;45mNone\u001b[0m, \u001b[38;5;34m24\u001b[0m, \u001b[38;5;34m17\u001b[0m, \u001b[38;5;34m32\u001b[0m)          │               \u001b[38;5;34m0\u001b[0m │\n",
              "├──────────────────────────────────────┼─────────────────────────────┼─────────────────┤\n",
              "│ conv2d_5 (\u001b[38;5;33mConv2D\u001b[0m)                    │ (\u001b[38;5;45mNone\u001b[0m, \u001b[38;5;34m22\u001b[0m, \u001b[38;5;34m15\u001b[0m, \u001b[38;5;34m64\u001b[0m)          │          \u001b[38;5;34m18,496\u001b[0m │\n",
              "├──────────────────────────────────────┼─────────────────────────────┼─────────────────┤\n",
              "│ max_pooling2d_5 (\u001b[38;5;33mMaxPooling2D\u001b[0m)       │ (\u001b[38;5;45mNone\u001b[0m, \u001b[38;5;34m11\u001b[0m, \u001b[38;5;34m7\u001b[0m, \u001b[38;5;34m64\u001b[0m)           │               \u001b[38;5;34m0\u001b[0m │\n",
              "├──────────────────────────────────────┼─────────────────────────────┼─────────────────┤\n",
              "│ flatten_2 (\u001b[38;5;33mFlatten\u001b[0m)                  │ (\u001b[38;5;45mNone\u001b[0m, \u001b[38;5;34m4928\u001b[0m)                │               \u001b[38;5;34m0\u001b[0m │\n",
              "├──────────────────────────────────────┼─────────────────────────────┼─────────────────┤\n",
              "│ dense_4 (\u001b[38;5;33mDense\u001b[0m)                      │ (\u001b[38;5;45mNone\u001b[0m, \u001b[38;5;34m128\u001b[0m)                 │         \u001b[38;5;34m630,912\u001b[0m │\n",
              "├──────────────────────────────────────┼─────────────────────────────┼─────────────────┤\n",
              "│ dropout_2 (\u001b[38;5;33mDropout\u001b[0m)                  │ (\u001b[38;5;45mNone\u001b[0m, \u001b[38;5;34m128\u001b[0m)                 │               \u001b[38;5;34m0\u001b[0m │\n",
              "├──────────────────────────────────────┼─────────────────────────────┼─────────────────┤\n",
              "│ dense_5 (\u001b[38;5;33mDense\u001b[0m)                      │ (\u001b[38;5;45mNone\u001b[0m, \u001b[38;5;34m7\u001b[0m)                   │             \u001b[38;5;34m903\u001b[0m │\n",
              "└──────────────────────────────────────┴─────────────────────────────┴─────────────────┘\n"
            ],
            "text/html": [
              "<pre style=\"white-space:pre;overflow-x:auto;line-height:normal;font-family:Menlo,'DejaVu Sans Mono',consolas,'Courier New',monospace\">┏━━━━━━━━━━━━━━━━━━━━━━━━━━━━━━━━━━━━━━┳━━━━━━━━━━━━━━━━━━━━━━━━━━━━━┳━━━━━━━━━━━━━━━━━┓\n",
              "┃<span style=\"font-weight: bold\"> Layer (type)                         </span>┃<span style=\"font-weight: bold\"> Output Shape                </span>┃<span style=\"font-weight: bold\">         Param # </span>┃\n",
              "┡━━━━━━━━━━━━━━━━━━━━━━━━━━━━━━━━━━━━━━╇━━━━━━━━━━━━━━━━━━━━━━━━━━━━━╇━━━━━━━━━━━━━━━━━┩\n",
              "│ conv2d_4 (<span style=\"color: #0087ff; text-decoration-color: #0087ff\">Conv2D</span>)                    │ (<span style=\"color: #00d7ff; text-decoration-color: #00d7ff\">None</span>, <span style=\"color: #00af00; text-decoration-color: #00af00\">48</span>, <span style=\"color: #00af00; text-decoration-color: #00af00\">35</span>, <span style=\"color: #00af00; text-decoration-color: #00af00\">32</span>)          │             <span style=\"color: #00af00; text-decoration-color: #00af00\">320</span> │\n",
              "├──────────────────────────────────────┼─────────────────────────────┼─────────────────┤\n",
              "│ max_pooling2d_4 (<span style=\"color: #0087ff; text-decoration-color: #0087ff\">MaxPooling2D</span>)       │ (<span style=\"color: #00d7ff; text-decoration-color: #00d7ff\">None</span>, <span style=\"color: #00af00; text-decoration-color: #00af00\">24</span>, <span style=\"color: #00af00; text-decoration-color: #00af00\">17</span>, <span style=\"color: #00af00; text-decoration-color: #00af00\">32</span>)          │               <span style=\"color: #00af00; text-decoration-color: #00af00\">0</span> │\n",
              "├──────────────────────────────────────┼─────────────────────────────┼─────────────────┤\n",
              "│ conv2d_5 (<span style=\"color: #0087ff; text-decoration-color: #0087ff\">Conv2D</span>)                    │ (<span style=\"color: #00d7ff; text-decoration-color: #00d7ff\">None</span>, <span style=\"color: #00af00; text-decoration-color: #00af00\">22</span>, <span style=\"color: #00af00; text-decoration-color: #00af00\">15</span>, <span style=\"color: #00af00; text-decoration-color: #00af00\">64</span>)          │          <span style=\"color: #00af00; text-decoration-color: #00af00\">18,496</span> │\n",
              "├──────────────────────────────────────┼─────────────────────────────┼─────────────────┤\n",
              "│ max_pooling2d_5 (<span style=\"color: #0087ff; text-decoration-color: #0087ff\">MaxPooling2D</span>)       │ (<span style=\"color: #00d7ff; text-decoration-color: #00d7ff\">None</span>, <span style=\"color: #00af00; text-decoration-color: #00af00\">11</span>, <span style=\"color: #00af00; text-decoration-color: #00af00\">7</span>, <span style=\"color: #00af00; text-decoration-color: #00af00\">64</span>)           │               <span style=\"color: #00af00; text-decoration-color: #00af00\">0</span> │\n",
              "├──────────────────────────────────────┼─────────────────────────────┼─────────────────┤\n",
              "│ flatten_2 (<span style=\"color: #0087ff; text-decoration-color: #0087ff\">Flatten</span>)                  │ (<span style=\"color: #00d7ff; text-decoration-color: #00d7ff\">None</span>, <span style=\"color: #00af00; text-decoration-color: #00af00\">4928</span>)                │               <span style=\"color: #00af00; text-decoration-color: #00af00\">0</span> │\n",
              "├──────────────────────────────────────┼─────────────────────────────┼─────────────────┤\n",
              "│ dense_4 (<span style=\"color: #0087ff; text-decoration-color: #0087ff\">Dense</span>)                      │ (<span style=\"color: #00d7ff; text-decoration-color: #00d7ff\">None</span>, <span style=\"color: #00af00; text-decoration-color: #00af00\">128</span>)                 │         <span style=\"color: #00af00; text-decoration-color: #00af00\">630,912</span> │\n",
              "├──────────────────────────────────────┼─────────────────────────────┼─────────────────┤\n",
              "│ dropout_2 (<span style=\"color: #0087ff; text-decoration-color: #0087ff\">Dropout</span>)                  │ (<span style=\"color: #00d7ff; text-decoration-color: #00d7ff\">None</span>, <span style=\"color: #00af00; text-decoration-color: #00af00\">128</span>)                 │               <span style=\"color: #00af00; text-decoration-color: #00af00\">0</span> │\n",
              "├──────────────────────────────────────┼─────────────────────────────┼─────────────────┤\n",
              "│ dense_5 (<span style=\"color: #0087ff; text-decoration-color: #0087ff\">Dense</span>)                      │ (<span style=\"color: #00d7ff; text-decoration-color: #00d7ff\">None</span>, <span style=\"color: #00af00; text-decoration-color: #00af00\">7</span>)                   │             <span style=\"color: #00af00; text-decoration-color: #00af00\">903</span> │\n",
              "└──────────────────────────────────────┴─────────────────────────────┴─────────────────┘\n",
              "</pre>\n"
            ]
          },
          "metadata": {}
        },
        {
          "output_type": "display_data",
          "data": {
            "text/plain": [
              "\u001b[1m Total params: \u001b[0m\u001b[38;5;34m650,631\u001b[0m (2.48 MB)\n"
            ],
            "text/html": [
              "<pre style=\"white-space:pre;overflow-x:auto;line-height:normal;font-family:Menlo,'DejaVu Sans Mono',consolas,'Courier New',monospace\"><span style=\"font-weight: bold\"> Total params: </span><span style=\"color: #00af00; text-decoration-color: #00af00\">650,631</span> (2.48 MB)\n",
              "</pre>\n"
            ]
          },
          "metadata": {}
        },
        {
          "output_type": "display_data",
          "data": {
            "text/plain": [
              "\u001b[1m Trainable params: \u001b[0m\u001b[38;5;34m650,631\u001b[0m (2.48 MB)\n"
            ],
            "text/html": [
              "<pre style=\"white-space:pre;overflow-x:auto;line-height:normal;font-family:Menlo,'DejaVu Sans Mono',consolas,'Courier New',monospace\"><span style=\"font-weight: bold\"> Trainable params: </span><span style=\"color: #00af00; text-decoration-color: #00af00\">650,631</span> (2.48 MB)\n",
              "</pre>\n"
            ]
          },
          "metadata": {}
        },
        {
          "output_type": "display_data",
          "data": {
            "text/plain": [
              "\u001b[1m Non-trainable params: \u001b[0m\u001b[38;5;34m0\u001b[0m (0.00 B)\n"
            ],
            "text/html": [
              "<pre style=\"white-space:pre;overflow-x:auto;line-height:normal;font-family:Menlo,'DejaVu Sans Mono',consolas,'Courier New',monospace\"><span style=\"font-weight: bold\"> Non-trainable params: </span><span style=\"color: #00af00; text-decoration-color: #00af00\">0</span> (0.00 B)\n",
              "</pre>\n"
            ]
          },
          "metadata": {}
        }
      ]
    },
    {
      "cell_type": "code",
      "source": [
        "# Train the model\n",
        "history = model.fit(x_train, y_train, epochs=20, batch_size=32, validation_data=(x_test, y_test))\n",
        "history"
      ],
      "metadata": {
        "colab": {
          "base_uri": "https://localhost:8080/"
        },
        "id": "RBWHmHZlKKYy",
        "outputId": "3d62e33a-3f86-4e91-eb72-be76ffcef60b"
      },
      "execution_count": 55,
      "outputs": [
        {
          "output_type": "stream",
          "name": "stdout",
          "text": [
            "Epoch 1/20\n",
            "\u001b[1m33/33\u001b[0m \u001b[32m━━━━━━━━━━━━━━━━━━━━\u001b[0m\u001b[37m\u001b[0m \u001b[1m4s\u001b[0m 51ms/step - accuracy: 0.3834 - loss: 1.7557 - val_accuracy: 0.4612 - val_loss: 1.6291\n",
            "Epoch 2/20\n",
            "\u001b[1m33/33\u001b[0m \u001b[32m━━━━━━━━━━━━━━━━━━━━\u001b[0m\u001b[37m\u001b[0m \u001b[1m1s\u001b[0m 43ms/step - accuracy: 0.3863 - loss: 1.7449 - val_accuracy: 0.4612 - val_loss: 1.6027\n",
            "Epoch 3/20\n",
            "\u001b[1m33/33\u001b[0m \u001b[32m━━━━━━━━━━━━━━━━━━━━\u001b[0m\u001b[37m\u001b[0m \u001b[1m1s\u001b[0m 43ms/step - accuracy: 0.3639 - loss: 1.7637 - val_accuracy: 0.4612 - val_loss: 1.5164\n",
            "Epoch 4/20\n",
            "\u001b[1m33/33\u001b[0m \u001b[32m━━━━━━━━━━━━━━━━━━━━\u001b[0m\u001b[37m\u001b[0m \u001b[1m2s\u001b[0m 49ms/step - accuracy: 0.4084 - loss: 1.5993 - val_accuracy: 0.4961 - val_loss: 1.3539\n",
            "Epoch 5/20\n",
            "\u001b[1m33/33\u001b[0m \u001b[32m━━━━━━━━━━━━━━━━━━━━\u001b[0m\u001b[37m\u001b[0m \u001b[1m2s\u001b[0m 55ms/step - accuracy: 0.4702 - loss: 1.4123 - val_accuracy: 0.6473 - val_loss: 1.1977\n",
            "Epoch 6/20\n",
            "\u001b[1m33/33\u001b[0m \u001b[32m━━━━━━━━━━━━━━━━━━━━\u001b[0m\u001b[37m\u001b[0m \u001b[1m2s\u001b[0m 43ms/step - accuracy: 0.5847 - loss: 1.1725 - val_accuracy: 0.6822 - val_loss: 0.9478\n",
            "Epoch 7/20\n",
            "\u001b[1m33/33\u001b[0m \u001b[32m━━━━━━━━━━━━━━━━━━━━\u001b[0m\u001b[37m\u001b[0m \u001b[1m3s\u001b[0m 43ms/step - accuracy: 0.6193 - loss: 1.0328 - val_accuracy: 0.7403 - val_loss: 0.7927\n",
            "Epoch 8/20\n",
            "\u001b[1m33/33\u001b[0m \u001b[32m━━━━━━━━━━━━━━━━━━━━\u001b[0m\u001b[37m\u001b[0m \u001b[1m2s\u001b[0m 41ms/step - accuracy: 0.6757 - loss: 0.8872 - val_accuracy: 0.7984 - val_loss: 0.7029\n",
            "Epoch 9/20\n",
            "\u001b[1m33/33\u001b[0m \u001b[32m━━━━━━━━━━━━━━━━━━━━\u001b[0m\u001b[37m\u001b[0m \u001b[1m3s\u001b[0m 50ms/step - accuracy: 0.7058 - loss: 0.7734 - val_accuracy: 0.8295 - val_loss: 0.6248\n",
            "Epoch 10/20\n",
            "\u001b[1m33/33\u001b[0m \u001b[32m━━━━━━━━━━━━━━━━━━━━\u001b[0m\u001b[37m\u001b[0m \u001b[1m2s\u001b[0m 43ms/step - accuracy: 0.7694 - loss: 0.6642 - val_accuracy: 0.8140 - val_loss: 0.5758\n",
            "Epoch 11/20\n",
            "\u001b[1m33/33\u001b[0m \u001b[32m━━━━━━━━━━━━━━━━━━━━\u001b[0m\u001b[37m\u001b[0m \u001b[1m1s\u001b[0m 43ms/step - accuracy: 0.7597 - loss: 0.6530 - val_accuracy: 0.8411 - val_loss: 0.5373\n",
            "Epoch 12/20\n",
            "\u001b[1m33/33\u001b[0m \u001b[32m━━━━━━━━━━━━━━━━━━━━\u001b[0m\u001b[37m\u001b[0m \u001b[1m2s\u001b[0m 41ms/step - accuracy: 0.8228 - loss: 0.5384 - val_accuracy: 0.8566 - val_loss: 0.5015\n",
            "Epoch 13/20\n",
            "\u001b[1m33/33\u001b[0m \u001b[32m━━━━━━━━━━━━━━━━━━━━\u001b[0m\u001b[37m\u001b[0m \u001b[1m3s\u001b[0m 42ms/step - accuracy: 0.8479 - loss: 0.4728 - val_accuracy: 0.8566 - val_loss: 0.5059\n",
            "Epoch 14/20\n",
            "\u001b[1m33/33\u001b[0m \u001b[32m━━━━━━━━━━━━━━━━━━━━\u001b[0m\u001b[37m\u001b[0m \u001b[1m2s\u001b[0m 47ms/step - accuracy: 0.8435 - loss: 0.4798 - val_accuracy: 0.8450 - val_loss: 0.5090\n",
            "Epoch 15/20\n",
            "\u001b[1m33/33\u001b[0m \u001b[32m━━━━━━━━━━━━━━━━━━━━\u001b[0m\u001b[37m\u001b[0m \u001b[1m3s\u001b[0m 46ms/step - accuracy: 0.8220 - loss: 0.5027 - val_accuracy: 0.8488 - val_loss: 0.5036\n",
            "Epoch 16/20\n",
            "\u001b[1m33/33\u001b[0m \u001b[32m━━━━━━━━━━━━━━━━━━━━\u001b[0m\u001b[37m\u001b[0m \u001b[1m2s\u001b[0m 42ms/step - accuracy: 0.8798 - loss: 0.3692 - val_accuracy: 0.8605 - val_loss: 0.4399\n",
            "Epoch 17/20\n",
            "\u001b[1m33/33\u001b[0m \u001b[32m━━━━━━━━━━━━━━━━━━━━\u001b[0m\u001b[37m\u001b[0m \u001b[1m1s\u001b[0m 41ms/step - accuracy: 0.8757 - loss: 0.3580 - val_accuracy: 0.8721 - val_loss: 0.4479\n",
            "Epoch 18/20\n",
            "\u001b[1m33/33\u001b[0m \u001b[32m━━━━━━━━━━━━━━━━━━━━\u001b[0m\u001b[37m\u001b[0m \u001b[1m3s\u001b[0m 43ms/step - accuracy: 0.8870 - loss: 0.3310 - val_accuracy: 0.8798 - val_loss: 0.4140\n",
            "Epoch 19/20\n",
            "\u001b[1m33/33\u001b[0m \u001b[32m━━━━━━━━━━━━━━━━━━━━\u001b[0m\u001b[37m\u001b[0m \u001b[1m1s\u001b[0m 42ms/step - accuracy: 0.9036 - loss: 0.3266 - val_accuracy: 0.8760 - val_loss: 0.3971\n",
            "Epoch 20/20\n",
            "\u001b[1m33/33\u001b[0m \u001b[32m━━━━━━━━━━━━━━━━━━━━\u001b[0m\u001b[37m\u001b[0m \u001b[1m3s\u001b[0m 56ms/step - accuracy: 0.8941 - loss: 0.3236 - val_accuracy: 0.8682 - val_loss: 0.4126\n"
          ]
        },
        {
          "output_type": "execute_result",
          "data": {
            "text/plain": [
              "<keras.src.callbacks.history.History at 0x7911dbb80110>"
            ]
          },
          "metadata": {},
          "execution_count": 55
        }
      ]
    },
    {
      "cell_type": "code",
      "source": [
        "# Evaluate on test set\n",
        "test_loss, test_acc = model.evaluate(x_test, y_test)\n",
        "print(f\"Test Accuracy: {test_acc * 100:.3f} %\")\n"
      ],
      "metadata": {
        "colab": {
          "base_uri": "https://localhost:8080/"
        },
        "id": "hm_GRsOyKxBE",
        "outputId": "c21b6140-958d-40cf-826c-1fe595b18f80"
      },
      "execution_count": 58,
      "outputs": [
        {
          "output_type": "stream",
          "name": "stdout",
          "text": [
            "\u001b[1m9/9\u001b[0m \u001b[32m━━━━━━━━━━━━━━━━━━━━\u001b[0m\u001b[37m\u001b[0m \u001b[1m0s\u001b[0m 11ms/step - accuracy: 0.8722 - loss: 0.4550\n",
            "Test Accuracy: 86.822 %\n"
          ]
        }
      ]
    },
    {
      "cell_type": "code",
      "source": [
        "from sklearn.metrics import classification_report\n",
        "import numpy as np\n",
        "\n",
        "# Predict labels for test data\n",
        "y_pred = model.predict(x_test)\n",
        "\n",
        "# Convert one-hot encoded labels back to class indices\n",
        "y_pred_classes = np.argmax(y_pred, axis=1)\n",
        "y_true_classes = np.argmax(y_test, axis=1)\n",
        "\n",
        "# Generate classification report\n",
        "report = classification_report(y_true_classes, y_pred_classes, target_names=target_names)\n",
        "print(report)\n"
      ],
      "metadata": {
        "colab": {
          "base_uri": "https://localhost:8080/"
        },
        "id": "XZuYVvLyLMFH",
        "outputId": "660519ed-a01c-4f87-a116-78c8a6f6c890"
      },
      "execution_count": 59,
      "outputs": [
        {
          "output_type": "stream",
          "name": "stdout",
          "text": [
            "\u001b[1m9/9\u001b[0m \u001b[32m━━━━━━━━━━━━━━━━━━━━\u001b[0m\u001b[37m\u001b[0m \u001b[1m0s\u001b[0m 16ms/step\n",
            "                   precision    recall  f1-score   support\n",
            "\n",
            "     Ariel Sharon       0.67      0.55      0.60        11\n",
            "     Colin Powell       0.81      0.94      0.87        47\n",
            "  Donald Rumsfeld       0.81      0.77      0.79        22\n",
            "    George W Bush       0.93      0.95      0.94       119\n",
            "Gerhard Schroeder       0.78      0.74      0.76        19\n",
            "      Hugo Chavez       0.82      0.69      0.75        13\n",
            "       Tony Blair       0.91      0.78      0.84        27\n",
            "\n",
            "         accuracy                           0.87       258\n",
            "        macro avg       0.82      0.77      0.79       258\n",
            "     weighted avg       0.87      0.87      0.87       258\n",
            "\n"
          ]
        }
      ]
    },
    {
      "cell_type": "code",
      "source": [
        "import numpy as np\n",
        "import tensorflow as tf\n",
        "import matplotlib.pyplot as plt\n",
        "\n",
        "def predict_face_from_dataset(index):\n",
        "    # Select an image from X_test\n",
        "    img = x_test[index]  # Already preprocessed (grayscale, normalized, and shaped)\n",
        "\n",
        "    # Expand dimensions to match CNN input shape (batch size = 1)\n",
        "    img_expanded = np.expand_dims(img, axis=0)\n",
        "\n",
        "    # Predict using the trained CNN model\n",
        "    prediction = model.predict(img_expanded)\n",
        "    predicted_class = np.argmax(prediction)  # Get class index\n",
        "    predicted_name = target_names[predicted_class]  # Get corresponding name\n",
        "\n",
        "    # Display the image and prediction\n",
        "    plt.imshow(img.squeeze(), cmap=\"gray\")\n",
        "    plt.title(f\"Predicted: {predicted_name}\")\n",
        "    plt.axis(\"off\")\n",
        "    plt.show()\n",
        "\n",
        "# Example usage\n",
        "predict_face_from_dataset(0)  # Predict the first test image\n"
      ],
      "metadata": {
        "colab": {
          "base_uri": "https://localhost:8080/",
          "height": 445
        },
        "id": "mMWTsAwlPNxv",
        "outputId": "9ae88067-6f97-41e6-f63a-56aa82be776e"
      },
      "execution_count": 62,
      "outputs": [
        {
          "output_type": "stream",
          "name": "stdout",
          "text": [
            "\u001b[1m1/1\u001b[0m \u001b[32m━━━━━━━━━━━━━━━━━━━━\u001b[0m\u001b[37m\u001b[0m \u001b[1m0s\u001b[0m 29ms/step\n"
          ]
        },
        {
          "output_type": "display_data",
          "data": {
            "text/plain": [
              "<Figure size 640x480 with 1 Axes>"
            ],
            "image/png": "[encoded data removed]"
          },
          "metadata": {}
        }
      ]
    },
    {
      "cell_type": "code",
      "source": [],
      "metadata": {
        "id": "frjcQjqGPOTX"
      },
      "execution_count": null,
      "outputs": []
    }
  ]
}